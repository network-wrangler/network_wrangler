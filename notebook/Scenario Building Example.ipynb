{
 "cells": [
  {
   "cell_type": "code",
   "execution_count": 1,
   "metadata": {},
   "outputs": [],
   "source": [
    "import os\n",
    "import sys\n",
    "from network_wrangler import RoadwayNetwork, TransitNetwork, ProjectCard, Scenario\n",
    "\n",
    "%config IPCompleter.greedy=True\n",
    "\n",
    "import pandas as pd\n",
    "pd.set_option('display.max_columns', None)\n",
    "\n",
    "import warnings\n",
    "warnings.filterwarnings('ignore')"
   ]
  },
  {
   "cell_type": "code",
   "execution_count": 2,
   "metadata": {},
   "outputs": [],
   "source": [
    "%load_ext autoreload\n",
    "%autoreload 2\n",
    "\n",
    "import logging\n",
    "logger = logging.getLogger(\"WranglerLogger\")\n",
    "logger.handlers[0].stream = sys.stdout\n",
    "# if you don't want to see so much detail, set to logging.INFO or DEBUG\n",
    "logger.setLevel(logging.INFO)"
   ]
  },
  {
   "cell_type": "markdown",
   "metadata": {},
   "source": [
    "## Define Base Files, Networks, and Scenario"
   ]
  },
  {
   "cell_type": "code",
   "execution_count": 9,
   "metadata": {},
   "outputs": [],
   "source": [
    "STPAUL_DIR = os.path.join(os.getcwd(),'../','examples','stpaul')\n",
    "STPAUL_SHAPE_FILE = os.path.join(STPAUL_DIR,\"shape.geojson\")\n",
    "STPAUL_LINK_FILE = os.path.join(STPAUL_DIR,\"link.json\")\n",
    "STPAUL_NODE_FILE = os.path.join(STPAUL_DIR,\"node.geojson\")\n",
    "\n"
   ]
  },
  {
   "cell_type": "code",
   "execution_count": 10,
   "metadata": {},
   "outputs": [],
   "source": [
    "road_net = RoadwayNetwork.read(\n",
    "    link_file= STPAUL_LINK_FILE, \n",
    "    node_file=STPAUL_NODE_FILE, \n",
    "    shape_file=STPAUL_SHAPE_FILE, \n",
    "    fast=True\n",
    ")"
   ]
  },
  {
   "cell_type": "code",
   "execution_count": 11,
   "metadata": {},
   "outputs": [],
   "source": [
    "transit_net = TransitNetwork.read(STPAUL_DIR)"
   ]
  },
  {
   "cell_type": "code",
   "execution_count": 12,
   "metadata": {},
   "outputs": [],
   "source": [
    "base_scenario = {\n",
    "    \"road_net\": road_net,\n",
    "    \"transit_net\": transit_net,\n",
    "}"
   ]
  },
  {
   "cell_type": "markdown",
   "metadata": {},
   "source": [
    "## Define and Create \"No Build\" Network\n",
    "\n",
    "In this case, we will create a scenario based on all projects in a directory with a certain filename pattern"
   ]
  },
  {
   "cell_type": "code",
   "execution_count": 13,
   "metadata": {},
   "outputs": [],
   "source": [
    "my_scenario_nobuild = Scenario.create_scenario(\n",
    "    base_scenario=base_scenario, \n",
    "    card_directory = os.path.join(STPAUL_DIR, \"project_cards\"),\n",
    "    glob_search = \"*attribute*.yml\"\n",
    ")"
   ]
  },
  {
   "cell_type": "code",
   "execution_count": 14,
   "metadata": {},
   "outputs": [
    {
     "data": {
      "text/plain": [
       "['Improve Express Bus Frequency',\n",
       " '6th St E Road Diet',\n",
       " 'Blue Line Service Enhancement D',\n",
       " 'Blue Line Service Enhancement B',\n",
       " 'Blue Line Service Enhancement C',\n",
       " 'Blue Line Service Enhancement A',\n",
       " 'Improve Express Bus Frequency B',\n",
       " '6th Street Transitway']"
      ]
     },
     "execution_count": 14,
     "metadata": {},
     "output_type": "execute_result"
    }
   ],
   "source": [
    "my_scenario_nobuild.get_project_names()"
   ]
  },
  {
   "cell_type": "code",
   "execution_count": 15,
   "metadata": {},
   "outputs": [],
   "source": [
    "my_scenario_nobuild.apply_all_projects()"
   ]
  },
  {
   "cell_type": "code",
   "execution_count": 16,
   "metadata": {},
   "outputs": [
    {
     "data": {
      "text/plain": [
       "['6th Street Transitway',\n",
       " 'Improve Express Bus Frequency B',\n",
       " 'Blue Line Service Enhancement A',\n",
       " 'Blue Line Service Enhancement C',\n",
       " 'Blue Line Service Enhancement B',\n",
       " 'Blue Line Service Enhancement D',\n",
       " '6th St E Road Diet',\n",
       " 'Improve Express Bus Frequency']"
      ]
     },
     "execution_count": 16,
     "metadata": {},
     "output_type": "execute_result"
    }
   ],
   "source": [
    "my_scenario_nobuild.applied_projects"
   ]
  },
  {
   "cell_type": "markdown",
   "metadata": {},
   "source": [
    "## Specify specific cards to add for a build scenario\n",
    "\n",
    "This scenario will be tiered off of the no-build scenario"
   ]
  },
  {
   "cell_type": "code",
   "execution_count": 17,
   "metadata": {},
   "outputs": [],
   "source": [
    "BUILD_CARD_FILENAMES = [\n",
    "        \"4_simple_managed_lane.yml\",\n",
    "    ]\n",
    "\n",
    "project_cards_list = [\n",
    "    ProjectCard.read(os.path.join(STPAUL_DIR, \"project_cards\", filename), validate=False)\n",
    "    for filename in BUILD_CARD_FILENAMES\n",
    "]"
   ]
  },
  {
   "cell_type": "code",
   "execution_count": 18,
   "metadata": {},
   "outputs": [
    {
     "data": {
      "text/plain": [
       "['6th Street Transitway',\n",
       " 'Improve Express Bus Frequency B',\n",
       " 'Blue Line Service Enhancement A',\n",
       " 'Blue Line Service Enhancement C',\n",
       " 'Blue Line Service Enhancement B',\n",
       " 'Blue Line Service Enhancement D',\n",
       " '6th St E Road Diet',\n",
       " 'Improve Express Bus Frequency']"
      ]
     },
     "execution_count": 18,
     "metadata": {},
     "output_type": "execute_result"
    }
   ],
   "source": [
    "my_scenario_build_alt1 = Scenario.create_scenario(\n",
    "    base_scenario=my_scenario_nobuild.__dict__, \n",
    "    project_cards_list=project_cards_list\n",
    ")\n",
    "\n",
    "my_scenario_build_alt1.applied_projects"
   ]
  },
  {
   "cell_type": "code",
   "execution_count": 19,
   "metadata": {},
   "outputs": [],
   "source": [
    "my_scenario_build_alt1.apply_all_projects()"
   ]
  },
  {
   "cell_type": "code",
   "execution_count": 20,
   "metadata": {},
   "outputs": [
    {
     "data": {
      "text/plain": [
       "['6th Street Transitway',\n",
       " 'Improve Express Bus Frequency B',\n",
       " 'Blue Line Service Enhancement A',\n",
       " 'Blue Line Service Enhancement C',\n",
       " 'Blue Line Service Enhancement B',\n",
       " 'Blue Line Service Enhancement D',\n",
       " '6th St E Road Diet',\n",
       " 'Improve Express Bus Frequency',\n",
       " 'test managed lane project']"
      ]
     },
     "execution_count": 20,
     "metadata": {},
     "output_type": "execute_result"
    }
   ],
   "source": [
    "my_scenario_build_alt1.applied_projects"
   ]
  },
  {
   "cell_type": "code",
   "execution_count": null,
   "metadata": {},
   "outputs": [],
   "source": []
  }
 ],
 "metadata": {
  "kernelspec": {
   "display_name": "Python 3",
   "language": "python",
   "name": "python3"
  },
  "language_info": {
   "codemirror_mode": {
    "name": "ipython",
    "version": 3
   },
   "file_extension": ".py",
   "mimetype": "text/x-python",
   "name": "python",
   "nbconvert_exporter": "python",
   "pygments_lexer": "ipython3",
   "version": "3.7.3"
  }
 },
 "nbformat": 4,
 "nbformat_minor": 2
}
