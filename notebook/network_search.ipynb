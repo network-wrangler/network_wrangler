{
 "cells": [
  {
   "cell_type": "code",
   "execution_count": 1,
   "metadata": {},
   "outputs": [],
   "source": [
    "from network_wrangler import RoadwayNetwork\n",
    "import osmnx as ox\n",
    "import pandas as pd\n",
    "import numpy as np\n",
    "import os\n",
    "from shapely.geometry import Point\n",
    "import networkx as nx\n",
    "import folium\n",
    "%config IPCompleter.greedy=True\n",
    "pd.set_option('display.max_columns', None)\n",
    "import warnings\n",
    "warnings.filterwarnings('ignore')"
   ]
  },
  {
   "cell_type": "code",
   "execution_count": 2,
   "metadata": {},
   "outputs": [],
   "source": [
    "STPAUL_DIR = os.path.join(os.getcwd(),'../','example','stpaul')\n",
    "STPAUL_SHAPE_FILE = os.path.join(STPAUL_DIR,\"shape.geojson\")\n",
    "STPAUL_LINK_FILE = os.path.join(STPAUL_DIR,\"link.json\")\n",
    "STPAUL_NODE_FILE = os.path.join(STPAUL_DIR,\"node.geojson\")"
   ]
  },
  {
   "cell_type": "code",
   "execution_count": 3,
   "metadata": {},
   "outputs": [],
   "source": [
    "net = RoadwayNetwork.read(link_file= STPAUL_LINK_FILE, node_file=STPAUL_NODE_FILE, shape_file=STPAUL_SHAPE_FILE, fast=True)"
   ]
  },
  {
   "cell_type": "code",
   "execution_count": 8,
   "metadata": {},
   "outputs": [],
   "source": [
    "selection = {\n",
    "    'link':[\n",
    "        {'name': ['6th', 'Sixth', 'sixth']}, #find streets that have one of the various forms of 6th\n",
    "        {'lanes': [1, 2]} # select street segments that have 1 or 2 lanes currently\n",
    "        ],\n",
    "     'A':{'osmNodeId': '187899923'}, # start searching for segments at A\n",
    "     'B':{'osmNodeId': '187865924'}, # end at B\n",
    "}"
   ]
  },
  {
   "cell_type": "code",
   "execution_count": 9,
   "metadata": {},
   "outputs": [],
   "source": [
    "# build link selection query\n",
    "def build_link_selection_query(selection: dict):\n",
    "    sel_query = ''\n",
    "    count = 1\n",
    "    if 'link' not in selection.keys():\n",
    "        return sel_query\n",
    "    \n",
    "    for d in selection['link']:\n",
    "        for key, value in d.items():\n",
    "            key = key.lower()\n",
    "            if isinstance(value, list):\n",
    "                sel_query = sel_query + '('\n",
    "                v = 1\n",
    "                for i in value:   # building an OR query with each element in list\n",
    "                    if isinstance(i, str):\n",
    "                        sel_query = sel_query + key + '.str.contains(\"' + i + '\")'\n",
    "                    else:\n",
    "                        sel_query = sel_query + key + '==' + str(i)\n",
    "                    if v!= len(value):\n",
    "                        sel_query = sel_query + ' or '\n",
    "                        v = v + 1\n",
    "                sel_query = sel_query + ')'\n",
    "            else:\n",
    "                sel_query = sel_query + key + ' == ' + '\"' + str(value) + '\"'\n",
    "\n",
    "            if count != len(selection['link']):\n",
    "                sel_query = sel_query + ' and '\n",
    "            count = count + 1\n",
    "    return sel_query"
   ]
  },
  {
   "cell_type": "code",
   "execution_count": 10,
   "metadata": {},
   "outputs": [
    {
     "name": "stdout",
     "output_type": "stream",
     "text": [
      "(name.str.contains(\"6th\") or name.str.contains(\"Sixth\") or name.str.contains(\"sixth\")) and (lanes==1 or lanes==2)\n"
     ]
    }
   ],
   "source": [
    "sel_query = build_link_selection_query(selection)\n",
    "print(sel_query)"
   ]
  },
  {
   "cell_type": "code",
   "execution_count": 55,
   "metadata": {},
   "outputs": [
    {
     "data": {
      "text/plain": [
       "True"
      ]
     },
     "execution_count": 55,
     "metadata": {},
     "output_type": "execute_result"
    }
   ],
   "source": [
    "d={1:2}\n",
    "1 in d"
   ]
  },
  {
   "cell_type": "code",
   "execution_count": 11,
   "metadata": {},
   "outputs": [
    {
     "name": "stdout",
     "output_type": "stream",
     "text": [
      "187899923 187865924\n"
     ]
    }
   ],
   "source": [
    "#A_id = selection['A']['osmnodeid']\n",
    "#B_id = selection['B']['osmnodeid']\n",
    "\n",
    "def orig_dest_nodes_foreign_key(selection: dict, nodes_df, node_foreign_key=RoadwayNetwork.NODE_FOREIGN_KEY) -> tuple:\n",
    "    '''\n",
    "    returns the foreign key id for the AB nodes as a tuple\n",
    "    '''\n",
    "    if len(selection['A'])>1:\n",
    "        raise (\"Selection A node dictionary should be of length 1\")\n",
    "    if len(selection['B'])>1:\n",
    "        raise (\"Selection B node dictionary should be of length 1\")\n",
    "\n",
    "    A_node_key, A_id = next(iter(selection['A'].items()))\n",
    "    B_node_key, B_id = next(iter(selection['B'].items()))\n",
    "    \n",
    "    if A_node_key != node_foreign_key:\n",
    "        A_id = nodes_df[nodes_df[A_node_key]==A_id][node_foreign_key].values[0]\n",
    "    if B_node_key != node_foreign_key:\n",
    "        B_id = nodes_df[nodes_df[B_node_key]==B_id][node_foreign_key].values[0]\n",
    "        \n",
    "    return (A_id, B_id)\n",
    "\n",
    "A_id, B_id = orig_dest_nodes_foreign_key(selection, net.nodes_df)\n",
    "print(A_id, B_id)"
   ]
  },
  {
   "cell_type": "code",
   "execution_count": 12,
   "metadata": {},
   "outputs": [],
   "source": [
    "net.links_df.columns = map(str.lower, net.links_df.columns)\n",
    "net.nodes_df.columns = map(str.lower, net.nodes_df.columns)\n",
    "net.nodes_df['x'] = net.nodes_df['geometry'].apply(lambda g: g.x) #seems like all this we should be doing on our read-in to the roadway network?\n",
    "net.nodes_df['y'] = net.nodes_df['geometry'].apply(lambda g: g.y)"
   ]
  },
  {
   "cell_type": "code",
   "execution_count": 14,
   "metadata": {},
   "outputs": [],
   "source": [
    "candidate_links = net.links_df.query(sel_query, engine='python')"
   ]
  },
  {
   "cell_type": "code",
   "execution_count": 17,
   "metadata": {},
   "outputs": [],
   "source": [
    "candidate_links['i'] = 1\n",
    "node_list_osmnodeids = list(candidate_links['u']) + list(candidate_links['v'])"
   ]
  },
  {
   "cell_type": "code",
   "execution_count": 18,
   "metadata": {},
   "outputs": [],
   "source": [
    "def add_breadth(candidate_links, nodes, links, i):\n",
    "    #add outbound and inbound reference IDs from existing nodes\n",
    "    node_list_osmnodeids = list(candidate_links['u']) + list(candidate_links['v'])\n",
    "    candidate_nodes = nodes[nodes[RoadwayNetwork.NODE_FOREIGN_KEY].isin(node_list_osmnodeids)]\n",
    "    links_id_to_add = list(candidate_nodes['outboundreferenceid']) + list(candidate_nodes['inboundreferenceid'])\n",
    "    links_id_to_add = [item for sublist in links_id_to_add for item in sublist if item != '']\n",
    "    for id in links_id_to_add:\n",
    "        if id not in candidate_links['id'].tolist():\n",
    "            link_to_add = links[links['id'] == id]\n",
    "            link_to_add['i'] = i\n",
    "            candidate_links.append(link_to_add)\n",
    "            \n",
    "    return candidate_links"
   ]
  },
  {
   "cell_type": "code",
   "execution_count": 57,
   "metadata": {},
   "outputs": [],
   "source": [
    "i = 0\n",
    "MAX_BREADTH = 10\n",
    "while A_id not in node_list_osmnodeids and B_id not in node_list_osmnodeids and i <= MAX_BREADTH:\n",
    "   i += 1\n",
    "   candidate_links = add_breadth(candidate_links, net.nodes_df, net.links_df, i)\n",
    "   \n",
    "candidate_links['weight'] = i+(i*100)"
   ]
  },
  {
   "cell_type": "code",
   "execution_count": 33,
   "metadata": {},
   "outputs": [],
   "source": [
    "node_list_osmnodeids = list(candidate_links['u']) + list(candidate_links['v'])\n",
    "candidate_nodes = net.nodes_df.loc[node_list_osmnodeids]\n",
    "#candidate_nodes"
   ]
  },
  {
   "cell_type": "code",
   "execution_count": 73,
   "metadata": {},
   "outputs": [],
   "source": [
    "non_candidate_links = net.links_df[~net.links_df.index.isin(candidate_links.index)]\n",
    "non_candidate_links['weight'] = 1000"
   ]
  },
  {
   "cell_type": "code",
   "execution_count": 40,
   "metadata": {},
   "outputs": [],
   "source": [
    "# After applying different weights to the links, still using the entire network (nodes/links) instead of candidate network\n",
    "# TODO: Discuss this part\n",
    "\n",
    "#graph_nodes = candidate_nodes.drop(['inboundreferenceid', 'outboundreferenceid'], axis=1)\n",
    "graph_nodes = net.nodes_df.drop(['inboundreferenceid', 'outboundreferenceid'], axis=1)\n",
    "graph_nodes.gdf_name = \"network_nodes\"\n",
    "#graph_edges = candidate_links\n",
    "#graph_edges = candidate_links.append(non_candidate_links)"
   ]
  },
  {
   "cell_type": "code",
   "execution_count": 77,
   "metadata": {},
   "outputs": [
    {
     "name": "stdout",
     "output_type": "stream",
     "text": [
      "10.1 s ± 373 ms per loop (mean ± std. dev. of 7 runs, 1 loop each)\n"
     ]
    }
   ],
   "source": [
    "%timeit G = ox.gdfs_to_graph(graph_nodes, graph_edges)\n"
   ]
  },
  {
   "cell_type": "code",
   "execution_count": 81,
   "metadata": {},
   "outputs": [
    {
     "name": "stdout",
     "output_type": "stream",
     "text": [
      "296 ms ± 11.2 ms per loop (mean ± std. dev. of 7 runs, 1 loop each)\n"
     ]
    }
   ],
   "source": [
    "%timeit "
   ]
  },
  {
   "cell_type": "code",
   "execution_count": 41,
   "metadata": {},
   "outputs": [
    {
     "data": {
      "text/plain": [
       "'network_nodes'"
      ]
     },
     "execution_count": 41,
     "metadata": {},
     "output_type": "execute_result"
    }
   ],
   "source": [
    "graph_nodes.gdf_name"
   ]
  },
  {
   "cell_type": "code",
   "execution_count": 42,
   "metadata": {
    "scrolled": false
   },
   "outputs": [
    {
     "data": {
      "text/html": [
       "<div style=\"width:100%;\"><div style=\"position:relative;width:100%;height:0;padding-bottom:60%;\"><iframe src=\"data:text/html;charset=utf-8;base64,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\" style=\"position:absolute;width:100%;height:100%;left:0;top:0;border:none !important;\" allowfullscreen webkitallowfullscreen mozallowfullscreen></iframe></div></div>"
      ],
      "text/plain": [
       "<folium.folium.Map at 0xa22969a90>"
      ]
     },
     "execution_count": 42,
     "metadata": {},
     "output_type": "execute_result"
    }
   ],
   "source": [
    "G = ox.gdfs_to_graph(graph_nodes, candidate_links)\n",
    "#ox.plot_graph(G, fig_height=16, fig_width=16)\n",
    "\n",
    "#renders for candidate graph but takes forever for entire network\n",
    "m = ox.plot_graph_folium(G, edge_color = 'green', edge_width = 3,popup_attribute='name')\n",
    "folium.Marker(location=[graph_nodes.loc[A_id]['y'], graph_nodes.loc[A_id]['x']], icon=folium.Icon(color='blue'), tooltip='A Node').add_to(m)\n",
    "folium.Marker(location=[graph_nodes.loc[B_id]['y'], graph_nodes.loc[B_id]['x']], icon=folium.Icon(color='blue'), tooltip='B Node').add_to(m)\n",
    "m"
   ]
  },
  {
   "cell_type": "code",
   "execution_count": 84,
   "metadata": {},
   "outputs": [],
   "source": [
    "sp_route = nx.shortest_path(G, A_id, B_id, weight = 'weight')"
   ]
  },
  {
   "cell_type": "code",
   "execution_count": 85,
   "metadata": {},
   "outputs": [
    {
     "data": {
      "text/plain": [
       "['187899923', '187858777', '187923585', '187865924']"
      ]
     },
     "execution_count": 85,
     "metadata": {},
     "output_type": "execute_result"
    }
   ],
   "source": [
    "sp_route"
   ]
  },
  {
   "cell_type": "code",
   "execution_count": 21,
   "metadata": {},
   "outputs": [
    {
     "data": {
      "text/html": [
       "<div style=\"width:100%;\"><div style=\"position:relative;width:100%;height:0;padding-bottom:60%;\"><iframe src=\"data:text/html;charset=utf-8;base64,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\" style=\"position:absolute;width:100%;height:100%;left:0;top:0;border:none !important;\" allowfullscreen webkitallowfullscreen mozallowfullscreen></iframe></div></div>"
      ],
      "text/plain": [
       "<folium.folium.Map at 0xa249f47b8>"
      ]
     },
     "execution_count": 21,
     "metadata": {},
     "output_type": "execute_result"
    }
   ],
   "source": [
    "#ox.plot_graph_route(G, sp_route, fig_height=20, fig_width=20)\n",
    "r = ox.plot_route_folium(G, sp_route)\n",
    "folium.Marker(location=[graph_nodes.loc[A_id]['y'], graph_nodes.loc[A_id]['x']], icon=folium.Icon(color='blue'), tooltip='A Node').add_to(r)\n",
    "folium.Marker(location=[graph_nodes.loc[B_id]['y'], graph_nodes.loc[B_id]['x']], icon=folium.Icon(color='blue'), tooltip='B Node').add_to(r)\n",
    "r"
   ]
  },
  {
   "cell_type": "code",
   "execution_count": 22,
   "metadata": {},
   "outputs": [],
   "source": [
    "#sp_links = candidate_links[candidate_links['u'].isin(sp_route) & candidate_links['v'].isin(sp_route)]\n",
    "sp_links = graph_edges[graph_edges['u'].isin(sp_route) & graph_edges['v'].isin(sp_route)]"
   ]
  },
  {
   "cell_type": "code",
   "execution_count": 23,
   "metadata": {},
   "outputs": [
    {
     "data": {
      "text/html": [
       "<div>\n",
       "<style scoped>\n",
       "    .dataframe tbody tr th:only-of-type {\n",
       "        vertical-align: middle;\n",
       "    }\n",
       "\n",
       "    .dataframe tbody tr th {\n",
       "        vertical-align: top;\n",
       "    }\n",
       "\n",
       "    .dataframe thead th {\n",
       "        text-align: right;\n",
       "    }\n",
       "</style>\n",
       "<table border=\"1\" class=\"dataframe\">\n",
       "  <thead>\n",
       "    <tr style=\"text-align: right;\">\n",
       "      <th></th>\n",
       "      <th>lanes</th>\n",
       "      <th>link_id</th>\n",
       "      <th>osmlanes</th>\n",
       "      <th>access</th>\n",
       "      <th>area</th>\n",
       "      <th>bridge</th>\n",
       "      <th>geometryid</th>\n",
       "      <th>highway</th>\n",
       "      <th>id</th>\n",
       "      <th>isbikelink</th>\n",
       "      <th>isdrivelink</th>\n",
       "      <th>istranlink</th>\n",
       "      <th>iswalklink</th>\n",
       "      <th>junction</th>\n",
       "      <th>key</th>\n",
       "      <th>length</th>\n",
       "      <th>locationreferences</th>\n",
       "      <th>maxspeed</th>\n",
       "      <th>name</th>\n",
       "      <th>oneway</th>\n",
       "      <th>osmid</th>\n",
       "      <th>ref</th>\n",
       "      <th>service</th>\n",
       "      <th>tunnel</th>\n",
       "      <th>u</th>\n",
       "      <th>v</th>\n",
       "      <th>width</th>\n",
       "      <th>geometry</th>\n",
       "      <th>weight</th>\n",
       "    </tr>\n",
       "  </thead>\n",
       "  <tbody>\n",
       "    <tr>\n",
       "      <th>1125</th>\n",
       "      <td>1</td>\n",
       "      <td>85208</td>\n",
       "      <td>0.0</td>\n",
       "      <td></td>\n",
       "      <td></td>\n",
       "      <td></td>\n",
       "      <td>f40c90c87447dca8c1d89b35e2175778</td>\n",
       "      <td>tertiary</td>\n",
       "      <td>f89fec3332dd503f754dc5adde048fa3</td>\n",
       "      <td>0</td>\n",
       "      <td>1</td>\n",
       "      <td>0</td>\n",
       "      <td>0</td>\n",
       "      <td></td>\n",
       "      <td>0.0</td>\n",
       "      <td>111.992</td>\n",
       "      <td>[{'sequence': 1, 'point': [-93.0928707, 44.947...</td>\n",
       "      <td></td>\n",
       "      <td>East 6th Street</td>\n",
       "      <td>True</td>\n",
       "      <td>223371528</td>\n",
       "      <td></td>\n",
       "      <td></td>\n",
       "      <td></td>\n",
       "      <td>187858777</td>\n",
       "      <td>187923585</td>\n",
       "      <td></td>\n",
       "      <td>LINESTRING (-93.09287070000001 44.9476402, -93...</td>\n",
       "      <td>1</td>\n",
       "    </tr>\n",
       "    <tr>\n",
       "      <th>4498</th>\n",
       "      <td>1</td>\n",
       "      <td>134574</td>\n",
       "      <td>0.0</td>\n",
       "      <td></td>\n",
       "      <td></td>\n",
       "      <td></td>\n",
       "      <td>878abbf556627618b2f1c8e3ab45f04d</td>\n",
       "      <td>tertiary</td>\n",
       "      <td>d6b3b088666d86081ff7e64399cfc34f</td>\n",
       "      <td>0</td>\n",
       "      <td>1</td>\n",
       "      <td>0</td>\n",
       "      <td>0</td>\n",
       "      <td></td>\n",
       "      <td>0.0</td>\n",
       "      <td>117.292</td>\n",
       "      <td>[{'sequence': 1, 'point': [-93.091634, 44.9482...</td>\n",
       "      <td></td>\n",
       "      <td>East 6th Street</td>\n",
       "      <td>True</td>\n",
       "      <td>223371529</td>\n",
       "      <td></td>\n",
       "      <td></td>\n",
       "      <td></td>\n",
       "      <td>187899923</td>\n",
       "      <td>187858777</td>\n",
       "      <td></td>\n",
       "      <td>LINESTRING (-93.091634 44.9482284, -93.0928707...</td>\n",
       "      <td>1</td>\n",
       "    </tr>\n",
       "    <tr>\n",
       "      <th>5570</th>\n",
       "      <td>1</td>\n",
       "      <td>154035</td>\n",
       "      <td>0.0</td>\n",
       "      <td></td>\n",
       "      <td></td>\n",
       "      <td></td>\n",
       "      <td>1e802737854e3202753c8641086352d8</td>\n",
       "      <td>tertiary</td>\n",
       "      <td>23f4bf6121c4220c46c530eb95664cb4</td>\n",
       "      <td>1</td>\n",
       "      <td>1</td>\n",
       "      <td>0</td>\n",
       "      <td>0</td>\n",
       "      <td></td>\n",
       "      <td>0.0</td>\n",
       "      <td>114.436</td>\n",
       "      <td>[{'sequence': 1, 'point': [-93.0940445, 44.947...</td>\n",
       "      <td></td>\n",
       "      <td>East 6th Street</td>\n",
       "      <td>True</td>\n",
       "      <td>637912019</td>\n",
       "      <td></td>\n",
       "      <td></td>\n",
       "      <td></td>\n",
       "      <td>187923585</td>\n",
       "      <td>187865924</td>\n",
       "      <td></td>\n",
       "      <td>LINESTRING (-93.0940445 44.9470709, -93.095249...</td>\n",
       "      <td>1</td>\n",
       "    </tr>\n",
       "  </tbody>\n",
       "</table>\n",
       "</div>"
      ],
      "text/plain": [
       "      lanes  link_id  osmlanes access area bridge  \\\n",
       "1125      1    85208       0.0                      \n",
       "4498      1   134574       0.0                      \n",
       "5570      1   154035       0.0                      \n",
       "\n",
       "                            geometryid   highway  \\\n",
       "1125  f40c90c87447dca8c1d89b35e2175778  tertiary   \n",
       "4498  878abbf556627618b2f1c8e3ab45f04d  tertiary   \n",
       "5570  1e802737854e3202753c8641086352d8  tertiary   \n",
       "\n",
       "                                    id  isbikelink  isdrivelink  istranlink  \\\n",
       "1125  f89fec3332dd503f754dc5adde048fa3           0            1           0   \n",
       "4498  d6b3b088666d86081ff7e64399cfc34f           0            1           0   \n",
       "5570  23f4bf6121c4220c46c530eb95664cb4           1            1           0   \n",
       "\n",
       "      iswalklink junction  key   length  \\\n",
       "1125           0           0.0  111.992   \n",
       "4498           0           0.0  117.292   \n",
       "5570           0           0.0  114.436   \n",
       "\n",
       "                                     locationreferences maxspeed  \\\n",
       "1125  [{'sequence': 1, 'point': [-93.0928707, 44.947...            \n",
       "4498  [{'sequence': 1, 'point': [-93.091634, 44.9482...            \n",
       "5570  [{'sequence': 1, 'point': [-93.0940445, 44.947...            \n",
       "\n",
       "                 name oneway      osmid ref service tunnel          u  \\\n",
       "1125  East 6th Street   True  223371528                     187858777   \n",
       "4498  East 6th Street   True  223371529                     187899923   \n",
       "5570  East 6th Street   True  637912019                     187923585   \n",
       "\n",
       "              v width                                           geometry  \\\n",
       "1125  187923585        LINESTRING (-93.09287070000001 44.9476402, -93...   \n",
       "4498  187858777        LINESTRING (-93.091634 44.9482284, -93.0928707...   \n",
       "5570  187865924        LINESTRING (-93.0940445 44.9470709, -93.095249...   \n",
       "\n",
       "      weight  \n",
       "1125       1  \n",
       "4498       1  \n",
       "5570       1  "
      ]
     },
     "execution_count": 23,
     "metadata": {},
     "output_type": "execute_result"
    }
   ],
   "source": [
    "sp_links"
   ]
  },
  {
   "cell_type": "code",
   "execution_count": 24,
   "metadata": {},
   "outputs": [
    {
     "data": {
      "text/html": [
       "<div>\n",
       "<style scoped>\n",
       "    .dataframe tbody tr th:only-of-type {\n",
       "        vertical-align: middle;\n",
       "    }\n",
       "\n",
       "    .dataframe tbody tr th {\n",
       "        vertical-align: top;\n",
       "    }\n",
       "\n",
       "    .dataframe thead th {\n",
       "        text-align: right;\n",
       "    }\n",
       "</style>\n",
       "<table border=\"1\" class=\"dataframe\">\n",
       "  <thead>\n",
       "    <tr style=\"text-align: right;\">\n",
       "      <th></th>\n",
       "      <th>lanes</th>\n",
       "      <th>link_id</th>\n",
       "      <th>osmlanes</th>\n",
       "      <th>access</th>\n",
       "      <th>area</th>\n",
       "      <th>bridge</th>\n",
       "      <th>geometryid</th>\n",
       "      <th>highway</th>\n",
       "      <th>id</th>\n",
       "      <th>isbikelink</th>\n",
       "      <th>isdrivelink</th>\n",
       "      <th>istranlink</th>\n",
       "      <th>iswalklink</th>\n",
       "      <th>junction</th>\n",
       "      <th>key</th>\n",
       "      <th>length</th>\n",
       "      <th>locationreferences</th>\n",
       "      <th>maxspeed</th>\n",
       "      <th>name</th>\n",
       "      <th>oneway</th>\n",
       "      <th>osmid</th>\n",
       "      <th>ref</th>\n",
       "      <th>service</th>\n",
       "      <th>tunnel</th>\n",
       "      <th>u</th>\n",
       "      <th>v</th>\n",
       "      <th>width</th>\n",
       "      <th>geometry</th>\n",
       "      <th>weight</th>\n",
       "    </tr>\n",
       "  </thead>\n",
       "  <tbody>\n",
       "    <tr>\n",
       "      <th>1125</th>\n",
       "      <td>1</td>\n",
       "      <td>85208</td>\n",
       "      <td>0.0</td>\n",
       "      <td></td>\n",
       "      <td></td>\n",
       "      <td></td>\n",
       "      <td>f40c90c87447dca8c1d89b35e2175778</td>\n",
       "      <td>tertiary</td>\n",
       "      <td>f89fec3332dd503f754dc5adde048fa3</td>\n",
       "      <td>0</td>\n",
       "      <td>1</td>\n",
       "      <td>0</td>\n",
       "      <td>0</td>\n",
       "      <td></td>\n",
       "      <td>0.0</td>\n",
       "      <td>111.992</td>\n",
       "      <td>[{'sequence': 1, 'point': [-93.0928707, 44.947...</td>\n",
       "      <td></td>\n",
       "      <td>East 6th Street</td>\n",
       "      <td>True</td>\n",
       "      <td>223371528</td>\n",
       "      <td></td>\n",
       "      <td></td>\n",
       "      <td></td>\n",
       "      <td>187858777</td>\n",
       "      <td>187923585</td>\n",
       "      <td></td>\n",
       "      <td>LINESTRING (-93.09287070000001 44.9476402, -93...</td>\n",
       "      <td>1</td>\n",
       "    </tr>\n",
       "    <tr>\n",
       "      <th>4498</th>\n",
       "      <td>1</td>\n",
       "      <td>134574</td>\n",
       "      <td>0.0</td>\n",
       "      <td></td>\n",
       "      <td></td>\n",
       "      <td></td>\n",
       "      <td>878abbf556627618b2f1c8e3ab45f04d</td>\n",
       "      <td>tertiary</td>\n",
       "      <td>d6b3b088666d86081ff7e64399cfc34f</td>\n",
       "      <td>0</td>\n",
       "      <td>1</td>\n",
       "      <td>0</td>\n",
       "      <td>0</td>\n",
       "      <td></td>\n",
       "      <td>0.0</td>\n",
       "      <td>117.292</td>\n",
       "      <td>[{'sequence': 1, 'point': [-93.091634, 44.9482...</td>\n",
       "      <td></td>\n",
       "      <td>East 6th Street</td>\n",
       "      <td>True</td>\n",
       "      <td>223371529</td>\n",
       "      <td></td>\n",
       "      <td></td>\n",
       "      <td></td>\n",
       "      <td>187899923</td>\n",
       "      <td>187858777</td>\n",
       "      <td></td>\n",
       "      <td>LINESTRING (-93.091634 44.9482284, -93.0928707...</td>\n",
       "      <td>1</td>\n",
       "    </tr>\n",
       "    <tr>\n",
       "      <th>5570</th>\n",
       "      <td>1</td>\n",
       "      <td>154035</td>\n",
       "      <td>0.0</td>\n",
       "      <td></td>\n",
       "      <td></td>\n",
       "      <td></td>\n",
       "      <td>1e802737854e3202753c8641086352d8</td>\n",
       "      <td>tertiary</td>\n",
       "      <td>23f4bf6121c4220c46c530eb95664cb4</td>\n",
       "      <td>1</td>\n",
       "      <td>1</td>\n",
       "      <td>0</td>\n",
       "      <td>0</td>\n",
       "      <td></td>\n",
       "      <td>0.0</td>\n",
       "      <td>114.436</td>\n",
       "      <td>[{'sequence': 1, 'point': [-93.0940445, 44.947...</td>\n",
       "      <td></td>\n",
       "      <td>East 6th Street</td>\n",
       "      <td>True</td>\n",
       "      <td>637912019</td>\n",
       "      <td></td>\n",
       "      <td></td>\n",
       "      <td></td>\n",
       "      <td>187923585</td>\n",
       "      <td>187865924</td>\n",
       "      <td></td>\n",
       "      <td>LINESTRING (-93.0940445 44.9470709, -93.095249...</td>\n",
       "      <td>1</td>\n",
       "    </tr>\n",
       "  </tbody>\n",
       "</table>\n",
       "</div>"
      ],
      "text/plain": [
       "      lanes  link_id  osmlanes access area bridge  \\\n",
       "1125      1    85208       0.0                      \n",
       "4498      1   134574       0.0                      \n",
       "5570      1   154035       0.0                      \n",
       "\n",
       "                            geometryid   highway  \\\n",
       "1125  f40c90c87447dca8c1d89b35e2175778  tertiary   \n",
       "4498  878abbf556627618b2f1c8e3ab45f04d  tertiary   \n",
       "5570  1e802737854e3202753c8641086352d8  tertiary   \n",
       "\n",
       "                                    id  isbikelink  isdrivelink  istranlink  \\\n",
       "1125  f89fec3332dd503f754dc5adde048fa3           0            1           0   \n",
       "4498  d6b3b088666d86081ff7e64399cfc34f           0            1           0   \n",
       "5570  23f4bf6121c4220c46c530eb95664cb4           1            1           0   \n",
       "\n",
       "      iswalklink junction  key   length  \\\n",
       "1125           0           0.0  111.992   \n",
       "4498           0           0.0  117.292   \n",
       "5570           0           0.0  114.436   \n",
       "\n",
       "                                     locationreferences maxspeed  \\\n",
       "1125  [{'sequence': 1, 'point': [-93.0928707, 44.947...            \n",
       "4498  [{'sequence': 1, 'point': [-93.091634, 44.9482...            \n",
       "5570  [{'sequence': 1, 'point': [-93.0940445, 44.947...            \n",
       "\n",
       "                 name oneway      osmid ref service tunnel          u  \\\n",
       "1125  East 6th Street   True  223371528                     187858777   \n",
       "4498  East 6th Street   True  223371529                     187899923   \n",
       "5570  East 6th Street   True  637912019                     187923585   \n",
       "\n",
       "              v width                                           geometry  \\\n",
       "1125  187923585        LINESTRING (-93.09287070000001 44.9476402, -93...   \n",
       "4498  187858777        LINESTRING (-93.091634 44.9482284, -93.0928707...   \n",
       "5570  187865924        LINESTRING (-93.0940445 44.9470709, -93.095249...   \n",
       "\n",
       "      weight  \n",
       "1125       1  \n",
       "4498       1  \n",
       "5570       1  "
      ]
     },
     "execution_count": 24,
     "metadata": {},
     "output_type": "execute_result"
    }
   ],
   "source": [
    "# shortest path links may or may not satify the initial selection criteria\n",
    "# filter again based on the selection query\n",
    "sel_data = sp_links.query(sel_query, engine='python')\n",
    "sel_data.head()"
   ]
  },
  {
   "cell_type": "code",
   "execution_count": 25,
   "metadata": {},
   "outputs": [
    {
     "data": {
      "text/plain": [
       "[1125, 4498, 5570]"
      ]
     },
     "execution_count": 25,
     "metadata": {},
     "output_type": "execute_result"
    }
   ],
   "source": [
    "sel_indices = sel_data.index.tolist()\n",
    "sel_indices"
   ]
  },
  {
   "cell_type": "code",
   "execution_count": 46,
   "metadata": {},
   "outputs": [],
   "source": [
    "#all together\n",
    "\n",
    "def select_links(self, selection):\n",
    "    sel_query = build_link_selection_query(selection)\n",
    "    \n",
    "    candidate_links = self.links_df.query(sel_query, engine='python')\n",
    "    candidate_links['i'] = 1\n",
    "    node_list_osmnodeids = list(candidate_links['u']) + list(candidate_links['v'])\n",
    "\n",
    "    A_id, B_id = orig_dest_nodes_foreign_key(selection, self.nodes_df)\n",
    "    \n",
    "    i = 0\n",
    "    MAX_BREADTH = 10\n",
    "    while A_id not in node_list_osmnodeids and B_id not in node_list_osmnodeids and i < MAX_BREADTH:\n",
    "       candidate_links = add_breadth(candidate_links, net.nodes_df, net.links_df, i)\n",
    "       i += 1\n",
    "    candidate_links['weight'] = i+(i*100)\n",
    "    \n",
    "    node_list_osmnodeids = list(candidate_links['u']) + list(candidate_links['v'])\n",
    "    candidate_nodes = net.nodes_df.loc[node_list_osmnodeids]\n",
    "    \n",
    "    graph_nodes = net.nodes_df.drop(['inboundreferenceid', 'outboundreferenceid'], axis=1)\n",
    "    graph_nodes.gdf_name = \"network_nodes\"\n",
    "    G = ox.gdfs_to_graph(graph_nodes, candidate_links)\n",
    "    \n",
    "    sp_route = nx.shortest_path(G, A_id, B_id, weight = 'weight')\n",
    "    sp_links = candidate_links[candidate_links['u'].isin(sp_route) & candidate_links['v'].isin(sp_route)]\n",
    "    return sp_route, sp_links, G\n",
    "    \n"
   ]
  },
  {
   "cell_type": "code",
   "execution_count": 48,
   "metadata": {},
   "outputs": [
    {
     "name": "stdout",
     "output_type": "stream",
     "text": [
      "654 ms ± 20 ms per loop (mean ± std. dev. of 7 runs, 1 loop each)\n"
     ]
    }
   ],
   "source": [
    "%timeit sp_route, sp_links, G= select_links(net, selection)"
   ]
  },
  {
   "cell_type": "code",
   "execution_count": 51,
   "metadata": {},
   "outputs": [
    {
     "data": {
      "text/html": [
       "<div style=\"width:100%;\"><div style=\"position:relative;width:100%;height:0;padding-bottom:60%;\"><iframe src=\"data:text/html;charset=utf-8;base64,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\" style=\"position:absolute;width:100%;height:100%;left:0;top:0;border:none !important;\" allowfullscreen webkitallowfullscreen mozallowfullscreen></iframe></div></div>"
      ],
      "text/plain": [
       "<folium.folium.Map at 0xa22a1dda0>"
      ]
     },
     "execution_count": 51,
     "metadata": {},
     "output_type": "execute_result"
    }
   ],
   "source": [
    "m = ox.plot_graph_folium(G, edge_color = 'green', edge_width = 3,popup_attribute='name')\n",
    "folium.Marker(location=[graph_nodes.loc[A_id]['y'], graph_nodes.loc[A_id]['x']], icon=folium.Icon(color='blue'), tooltip='A Node').add_to(m)\n",
    "folium.Marker(location=[graph_nodes.loc[B_id]['y'], graph_nodes.loc[B_id]['x']], icon=folium.Icon(color='blue'), tooltip='B Node').add_to(m)\n",
    "m"
   ]
  },
  {
   "cell_type": "code",
   "execution_count": 53,
   "metadata": {},
   "outputs": [
    {
     "data": {
      "text/html": [
       "<div style=\"width:100%;\"><div style=\"position:relative;width:100%;height:0;padding-bottom:60%;\"><iframe src=\"data:text/html;charset=utf-8;base64,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\" style=\"position:absolute;width:100%;height:100%;left:0;top:0;border:none !important;\" allowfullscreen webkitallowfullscreen mozallowfullscreen></iframe></div></div>"
      ],
      "text/plain": [
       "<folium.folium.Map at 0xa22b49e80>"
      ]
     },
     "execution_count": 53,
     "metadata": {},
     "output_type": "execute_result"
    }
   ],
   "source": [
    "r = ox.plot_route_folium(G, sp_route, popup_attribute='name')\n",
    "folium.Marker(location=[graph_nodes.loc[A_id]['y'], graph_nodes.loc[A_id]['x']], icon=folium.Icon(color='blue'), tooltip='A Node').add_to(r)\n",
    "folium.Marker(location=[graph_nodes.loc[B_id]['y'], graph_nodes.loc[B_id]['x']], icon=folium.Icon(color='blue'), tooltip='B Node').add_to(r)\n",
    "r \n",
    "\n"
   ]
  },
  {
   "cell_type": "code",
   "execution_count": null,
   "metadata": {},
   "outputs": [],
   "source": []
  }
 ],
 "metadata": {
  "kernelspec": {
   "display_name": "Python 3",
   "language": "python",
   "name": "python3"
  },
  "language_info": {
   "codemirror_mode": {
    "name": "ipython",
    "version": 3
   },
   "file_extension": ".py",
   "mimetype": "text/x-python",
   "name": "python",
   "nbconvert_exporter": "python",
   "pygments_lexer": "ipython3",
   "version": "3.7.1"
  }
 },
 "nbformat": 4,
 "nbformat_minor": 2
}
