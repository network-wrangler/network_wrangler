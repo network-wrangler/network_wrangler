{
 "cells": [
  {
   "cell_type": "code",
   "execution_count": 1,
   "metadata": {},
   "outputs": [],
   "source": [
    "import os\n",
    "import warnings\n",
    "\n",
    "import folium\n",
    "import networkx as nx\n",
    "import numpy as np\n",
    "import osmnx as ox\n",
    "import pandas as pd\n",
    "from shapely.geometry import Point\n",
    "\n",
    "from network_wrangler import RoadwayNetwork\n",
    "from network_wrangler import ProjectCard\n",
    "\n",
    "%config IPCompleter.greedy=True\n",
    "pd.set_option('display.max_columns', None)\n",
    "\n",
    "warnings.filterwarnings('ignore')"
   ]
  },
  {
   "cell_type": "code",
   "execution_count": 13,
   "metadata": {},
   "outputs": [
    {
     "name": "stdout",
     "output_type": "stream",
     "text": [
      "The autoreload extension is already loaded. To reload it, use:\n",
      "  %reload_ext autoreload\n"
     ]
    }
   ],
   "source": [
    "%load_ext autoreload\n",
    "%autoreload 2"
   ]
  },
  {
   "cell_type": "code",
   "execution_count": 50,
   "metadata": {},
   "outputs": [],
   "source": [
    "STPAUL_DIR = os.path.join(os.getcwd(),'../','example','stpaul')\n",
    "STPAUL_SHAPE_FILE = os.path.join(STPAUL_DIR,\"shape.geojson\")\n",
    "STPAUL_LINK_FILE = os.path.join(STPAUL_DIR,\"link.json\")\n",
    "STPAUL_NODE_FILE = os.path.join(STPAUL_DIR,\"node.geojson\")"
   ]
  },
  {
   "cell_type": "code",
   "execution_count": 51,
   "metadata": {},
   "outputs": [],
   "source": [
    "net = RoadwayNetwork.read(link_file= STPAUL_LINK_FILE, node_file=STPAUL_NODE_FILE, shape_file=STPAUL_SHAPE_FILE, fast=True)"
   ]
  },
  {
   "cell_type": "code",
   "execution_count": 52,
   "metadata": {},
   "outputs": [],
   "source": [
    "easy_selection = \\\n",
    "{\n",
    "    'link':[\n",
    "        {'name': ['6th', 'Sixth', 'sixth']}, #find streets that have one of the various forms of 6th\n",
    "        ],\n",
    "     'A':{'osmNodeId': '187899923'}, # start searching for segments at A\n",
    "     'B':{'osmNodeId': '187865924'}, # end at B\n",
    "}\n",
    "\n",
    "longer_selection = \\\n",
    "{\n",
    "    'link':[\n",
    "        {'name': ['6th', 'Sixth', 'sixth']}, #find streets that have one of the various forms of 6th\n",
    "        ],\n",
    "     'A':{'osmNodeId': '187899923'}, # start searching for segments at A\n",
    "     'B':{'osmNodeId': '187942339'}, # end at B\n",
    "}\n",
    "##TODO\n",
    "multi_criteria_selection = \\\n",
    "{\n",
    "    'link':[\n",
    "        {'name': ['6th', 'Sixth', 'sixth']}, #find streets that have one of the various forms of 6th\n",
    "        {'OSMlanes': [1,2]}\n",
    "         ],\n",
    "     'A':{'osmNodeId': '187899923'}, # start searching for segments at A\n",
    "     'B':{'osmNodeId': '187942339'}, # end at B\n",
    "}"
   ]
  },
  {
   "cell_type": "code",
   "execution_count": 54,
   "metadata": {},
   "outputs": [],
   "source": [
    "RoadwayNetwork.MAX_SEARCH_BREADTH = 30\n",
    "net.select_roadway_features(easy_selection)\n",
    "net.select_roadway_features(longer_selection)\n",
    "\n",
    "easy_query = ProjectCard.build_link_selection_query(easy_selection)\n",
    "A_id, B_id = net.orig_dest_nodes_foreign_key(easy_selection)\n",
    "easy_key = (easy_query, A_id, B_id)\n",
    "longer_query = ProjectCard.build_link_selection_query(longer_selection)\n",
    "A_id, B_id = net.orig_dest_nodes_foreign_key(longer_selection)\n",
    "longer_key = (longer_query, A_id, B_id)"
   ]
  },
  {
   "cell_type": "code",
   "execution_count": 25,
   "metadata": {},
   "outputs": [
    {
     "data": {
      "text/plain": [
       "{'id': '',\n",
       " 'isBikeNode': 1,\n",
       " 'isDriveNode': 1,\n",
       " 'isTranNode': 0,\n",
       " 'isWalkNode': 1,\n",
       " 'travelModelId': 4758,\n",
       " 'geometry': <shapely.geometry.point.Point at 0xa30296f28>,\n",
       " 'x': -93.0743811,\n",
       " 'y': 44.95603930000001}"
      ]
     },
     "execution_count": 25,
     "metadata": {},
     "output_type": "execute_result"
    }
   ],
   "source": [
    "G = net.selections[easy_key]['graph']\n",
    "#G.edges\n",
    "#nx.get_edge_attributes(G,'weight')\n",
    "G.nodes['524837590']\n",
    "#ox.plot_graph(G, fig_height=10, fig_width=16)"
   ]
  },
  {
   "cell_type": "code",
   "execution_count": 57,
   "metadata": {},
   "outputs": [],
   "source": [
    "class selection_map:\n",
    "    \n",
    "    def __init__(self, net, selection={}):\n",
    "        self.net = net\n",
    "        self.selection = selection\n",
    "        self.query = ProjectCard.build_link_selection_query(selection)\n",
    "        \n",
    "        self.selection_key = net.build_selection_key(self.selection)\n",
    "        self.sp_found = self.net.select_roadway_features(selection)\n",
    "        \n",
    "        self.G     = self.net.selections[self.selection_key]['graph']\n",
    "        self.links = self.net.selections[self.query]['links']\n",
    "        self.A_name = self.selection_key[1]\n",
    "        self.B_name = self.selection_key[2]\n",
    "        \n",
    "        self.A     = self.G.nodes[self.A_name]\n",
    "        self.B     = self.G.nodes[self.B_name]\n",
    "        \n",
    "        if self.sp_found:\n",
    "            self.sp_route = self.net.selections[self.selection_key]['route']        \n",
    "            self.route_map = ox.plot_route_folium(G, self.sp_route, tiles='cartodbdark_matter')\n",
    "    \n",
    "    def layout(self):\n",
    "        from ipywidgets import HBox, VBox, Output\n",
    "        from IPython.display import display, HTML\n",
    "        srcdoc = self.folium_route()._repr_html_().replace('\"', '&quot;')\n",
    "        html     = HTML('<iframe srcdoc=\"{0}\" '\n",
    "                 'style=\"width: 100%; height: 400px;'\n",
    "                 'border: none\"></iframe>'.format(srcdoc))\n",
    "        \n",
    "        return VBox(display(self.links), display(html), display(self.query))\n",
    "    \n",
    "    def folium_node(self, node, node_name, color='white'):\n",
    "        node_marker = folium.Marker(location=[node['y'],node['x']], \n",
    "                                    icon=folium.Icon(color=color), \n",
    "                                    tooltip=node_name,\n",
    "                                   )\n",
    "        return node_marker\n",
    "    \n",
    "    def folium_route(self):\n",
    "        m = ox.plot_route_folium(self.G, self.sp_route, route_map=self.folium_graph(),\n",
    "                          route_color='white', route_width=15, route_opacity=.5)\n",
    "        return m\n",
    "    \n",
    "    def folium_graph(self):\n",
    "        m = ox.plot_graph_folium(self.G, \n",
    "                                 popup_attribute='weight', \n",
    "                                 edge_color='blue',\n",
    "                                 edge_width=2, \n",
    "                                 tiles='cartodbdark_matter')\n",
    "        self.folium_node(self.A, self.A_name, color=\"green\").add_to(m)\n",
    "        self.folium_node(self.B, self.B_name, color=\"pink\").add_to(m)\n",
    "        \n",
    "        return m\n",
    "    \n",
    "    def candidate_graph(self):\n",
    "        \n",
    "        m = ox.plot_graph_folium(self.G, \n",
    "                                 popup_attribute='weight', \n",
    "                                 edge_color='blue',\n",
    "                                 edge_width=.2, \n",
    "                                 tiles='cartodbdark_matter')\n",
    "        \n",
    "        links = ox.save_load.graph_to_gdfs(G, nodes=False, fill_edge_geometry=True)\n",
    "        colors = ox.plot.get_colors(10)\n",
    "        colors_d = {c:value for c, value in enumerate(colors, 0)}\n",
    "        links['color'] = links['i'].map(colors_d)\n",
    "        #print(links[['i','color']])\n",
    "        \n",
    "        for _, row in links.iterrows():\n",
    "            pl = ox.plot.make_folium_polyline(edge=row, edge_color=row['color'], edge_width=5,\n",
    "                                      edge_opacity=1.0, popup_attribute='weight')\n",
    "            pl.add_to(m)\n",
    "        self.folium_node(self.A, self.A_name, color=\"green\").add_to(m)\n",
    "        self.folium_node(self.B, self.B_name, color=\"pink\").add_to(m)\n",
    "        \n",
    "        return m"
   ]
  },
  {
   "cell_type": "code",
   "execution_count": 58,
   "metadata": {},
   "outputs": [
    {
     "ename": "TypeError",
     "evalue": "build_selection_key() missing 1 required positional argument: 'selection_dict'",
     "output_type": "error",
     "traceback": [
      "\u001b[0;31m---------------------------------------------------------------------------\u001b[0m",
      "\u001b[0;31mTypeError\u001b[0m                                 Traceback (most recent call last)",
      "\u001b[0;32m<ipython-input-58-09a125f7ee36>\u001b[0m in \u001b[0;36m<module>\u001b[0;34m\u001b[0m\n\u001b[0;32m----> 1\u001b[0;31m \u001b[0msel\u001b[0m \u001b[0;34m=\u001b[0m \u001b[0mselection_map\u001b[0m\u001b[0;34m(\u001b[0m\u001b[0mnet\u001b[0m\u001b[0;34m,\u001b[0m \u001b[0mselection\u001b[0m\u001b[0;34m=\u001b[0m\u001b[0mlonger_selection\u001b[0m\u001b[0;34m)\u001b[0m\u001b[0;34m\u001b[0m\u001b[0;34m\u001b[0m\u001b[0m\n\u001b[0m\u001b[1;32m      2\u001b[0m \u001b[0;31m#sel.folium_graph()\u001b[0m\u001b[0;34m\u001b[0m\u001b[0;34m\u001b[0m\u001b[0;34m\u001b[0m\u001b[0m\n\u001b[1;32m      3\u001b[0m \u001b[0;31m#sel.folium_route()\u001b[0m\u001b[0;34m\u001b[0m\u001b[0;34m\u001b[0m\u001b[0;34m\u001b[0m\u001b[0m\n\u001b[1;32m      4\u001b[0m \u001b[0;31m#sel.layout()\u001b[0m\u001b[0;34m\u001b[0m\u001b[0;34m\u001b[0m\u001b[0;34m\u001b[0m\u001b[0m\n\u001b[1;32m      5\u001b[0m \u001b[0msel\u001b[0m\u001b[0;34m.\u001b[0m\u001b[0mcandidate_graph\u001b[0m\u001b[0;34m(\u001b[0m\u001b[0;34m)\u001b[0m\u001b[0;34m\u001b[0m\u001b[0;34m\u001b[0m\u001b[0m\n",
      "\u001b[0;32m<ipython-input-57-c0715ae1ad95>\u001b[0m in \u001b[0;36m__init__\u001b[0;34m(self, net, selection)\u001b[0m\n\u001b[1;32m      6\u001b[0m         \u001b[0mself\u001b[0m\u001b[0;34m.\u001b[0m\u001b[0mquery\u001b[0m \u001b[0;34m=\u001b[0m \u001b[0mProjectCard\u001b[0m\u001b[0;34m.\u001b[0m\u001b[0mbuild_link_selection_query\u001b[0m\u001b[0;34m(\u001b[0m\u001b[0mselection\u001b[0m\u001b[0;34m)\u001b[0m\u001b[0;34m\u001b[0m\u001b[0;34m\u001b[0m\u001b[0m\n\u001b[1;32m      7\u001b[0m \u001b[0;34m\u001b[0m\u001b[0m\n\u001b[0;32m----> 8\u001b[0;31m         \u001b[0mself\u001b[0m\u001b[0;34m.\u001b[0m\u001b[0mselection_key\u001b[0m \u001b[0;34m=\u001b[0m \u001b[0mRoadwayNetwork\u001b[0m\u001b[0;34m.\u001b[0m\u001b[0mbuild_selection_key\u001b[0m\u001b[0;34m(\u001b[0m\u001b[0mself\u001b[0m\u001b[0;34m.\u001b[0m\u001b[0mselection\u001b[0m\u001b[0;34m)\u001b[0m\u001b[0;34m\u001b[0m\u001b[0;34m\u001b[0m\u001b[0m\n\u001b[0m\u001b[1;32m      9\u001b[0m         \u001b[0mself\u001b[0m\u001b[0;34m.\u001b[0m\u001b[0msp_found\u001b[0m \u001b[0;34m=\u001b[0m \u001b[0mself\u001b[0m\u001b[0;34m.\u001b[0m\u001b[0mnet\u001b[0m\u001b[0;34m.\u001b[0m\u001b[0mselect_roadway_features\u001b[0m\u001b[0;34m(\u001b[0m\u001b[0mselection\u001b[0m\u001b[0;34m)\u001b[0m\u001b[0;34m\u001b[0m\u001b[0;34m\u001b[0m\u001b[0m\n\u001b[1;32m     10\u001b[0m \u001b[0;34m\u001b[0m\u001b[0m\n",
      "\u001b[0;31mTypeError\u001b[0m: build_selection_key() missing 1 required positional argument: 'selection_dict'"
     ]
    }
   ],
   "source": [
    "sel = selection_map(net, selection=longer_selection)\n",
    "#sel.folium_graph()\n",
    "#sel.folium_route()\n",
    "#sel.layout()\n",
    "sel.candidate_graph()"
   ]
  },
  {
   "cell_type": "code",
   "execution_count": null,
   "metadata": {},
   "outputs": [],
   "source": []
  }
 ],
 "metadata": {
  "kernelspec": {
   "display_name": "Python 3",
   "language": "python",
   "name": "python3"
  },
  "language_info": {
   "codemirror_mode": {
    "name": "ipython",
    "version": 3
   },
   "file_extension": ".py",
   "mimetype": "text/x-python",
   "name": "python",
   "nbconvert_exporter": "python",
   "pygments_lexer": "ipython3",
   "version": "3.7.1"
  }
 },
 "nbformat": 4,
 "nbformat_minor": 2
}
