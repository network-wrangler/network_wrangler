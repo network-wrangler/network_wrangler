{
 "cells": [
  {
   "cell_type": "code",
   "execution_count": 1,
   "metadata": {},
   "outputs": [],
   "source": [
    "from network_wrangler import RoadwayNetwork\n",
    "import osmnx as ox\n",
    "import pandas as pd\n",
    "import numpy as np\n",
    "import os\n",
    "from shapely.geometry import Point\n",
    "import networkx as nx\n",
    "import folium\n",
    "%config IPCompleter.greedy=True\n",
    "pd.set_option('display.max_columns', None)\n",
    "import warnings\n",
    "warnings.filterwarnings('ignore')"
   ]
  },
  {
   "cell_type": "code",
   "execution_count": 2,
   "metadata": {},
   "outputs": [],
   "source": [
    "STPAUL_DIR = os.path.join(os.getcwd(),'../','example','stpaul')\n",
    "STPAUL_SHAPE_FILE = os.path.join(STPAUL_DIR,\"shape.geojson\")\n",
    "STPAUL_LINK_FILE = os.path.join(STPAUL_DIR,\"link.json\")\n",
    "STPAUL_NODE_FILE = os.path.join(STPAUL_DIR,\"node.geojson\")"
   ]
  },
  {
   "cell_type": "code",
   "execution_count": 3,
   "metadata": {},
   "outputs": [],
   "source": [
    "net = RoadwayNetwork.read(link_file= STPAUL_LINK_FILE, node_file=STPAUL_NODE_FILE, shape_file=STPAUL_SHAPE_FILE, fast=True)"
   ]
  },
  {
   "cell_type": "code",
   "execution_count": 44,
   "metadata": {},
   "outputs": [],
   "source": [
    "selection = {\n",
    "    'link':[\n",
    "        {'name': ['6th', 'Sixth', 'sixth']}, #find streets that have one of the various forms of 6th\n",
    "        {'lanes': [1, 2]} # select street segments that have 1 or 2 lanes currently\n",
    "        ],\n",
    "     'A':{'osmnodeid': '187899923'}, # start searching for segments at A\n",
    "     'B':{'osmnodeid': '187865924'}, # end at B\n",
    "}"
   ]
  },
  {
   "cell_type": "code",
   "execution_count": 28,
   "metadata": {},
   "outputs": [],
   "source": [
    "# build link selection query\n",
    "def build_link_selection_query(selection: dict):\n",
    "    sel_query = ''\n",
    "    count = 1\n",
    "    if 'link' not in selection.keys():\n",
    "        return sel_query\n",
    "    \n",
    "    for d in selection['link']:\n",
    "        for key, value in d.items():\n",
    "            key = key.lower()\n",
    "            if isinstance(value, list):\n",
    "                sel_query = sel_query + '('\n",
    "                v = 1\n",
    "                for i in value:   # building an OR query with each element in list\n",
    "                    if isinstance(i, str):\n",
    "                        sel_query = sel_query + key + '.str.contains(\"' + i + '\")'\n",
    "                    else:\n",
    "                        sel_query = sel_query + key + '==' + str(i)\n",
    "                    if v!= len(value):\n",
    "                        sel_query = sel_query + ' or '\n",
    "                        v = v + 1\n",
    "                sel_query = sel_query + ')'\n",
    "            else:\n",
    "                sel_query = sel_query + key + ' == ' + '\"' + str(value) + '\"'\n",
    "\n",
    "            if count != len(selection['link']):\n",
    "                sel_query = sel_query + ' and '\n",
    "            count = count + 1\n",
    "    return sel_query"
   ]
  },
  {
   "cell_type": "code",
   "execution_count": 29,
   "metadata": {},
   "outputs": [
    {
     "name": "stdout",
     "output_type": "stream",
     "text": [
      "(name.str.contains(\"6th\") or name.str.contains(\"Sixth\") or name.str.contains(\"sixth\")) and (lanes==1 or lanes==2)\n"
     ]
    }
   ],
   "source": [
    "sel_query = build_link_selection_query(selection)\n",
    "print(sel_query)"
   ]
  },
  {
   "cell_type": "code",
   "execution_count": 70,
   "metadata": {},
   "outputs": [
    {
     "name": "stdout",
     "output_type": "stream",
     "text": [
      "187899923 187865924\n"
     ]
    }
   ],
   "source": [
    "#A_id = selection['A']['osmnodeid']\n",
    "#B_id = selection['B']['osmnodeid']\n",
    "\n",
    "def orig_dest_nodes_foreign_key(selection: dict, nodes_df, node_foreign_key=RoadwayNetwork.NODE_FOREIGN_KEY) -> tuple:\n",
    "    '''\n",
    "    returns the foreign key id for the AB nodes as a tuple\n",
    "    '''\n",
    "    if len(selection['A'])>1:\n",
    "        raise (\"Selection A node dictionary should be of length 1\")\n",
    "    if len(selection['B'])>1:\n",
    "        raise (\"Selection B node dictionary should be of length 1\")\n",
    "\n",
    "    A_node_key, A_id = next(iter(selection['A'].items()))\n",
    "    B_node_key, B_id = next(iter(selection['B'].items()))\n",
    "    \n",
    "    if A_node_key != node_foreign_key:\n",
    "        A_id = nodes_df[nodes_df[A_node_key]==A_id][node_foreign_key].values[0]\n",
    "    if B_node_key != node_foreign_key:\n",
    "        B_id = nodes_df[nodes_df[B_node_key]==B_id][node_foreign_key].values[0]\n",
    "        \n",
    "    return (A_id, B_id)\n",
    "\n",
    "A_id, B_id = orig_dest_nodes_foreign_key(selection, net.nodes_df)\n",
    "print(A_id, B_id)"
   ]
  },
  {
   "cell_type": "code",
   "execution_count": 8,
   "metadata": {},
   "outputs": [],
   "source": [
    "net.links_df.columns = map(str.lower, net.links_df.columns)\n",
    "net.nodes_df.columns = map(str.lower, net.nodes_df.columns)\n",
    "net.nodes_df['x'] = net.nodes_df['geometry'].apply(lambda g: g.x) #seems like all this we should be doing on our read-in to the roadway network?\n",
    "net.nodes_df['y'] = net.nodes_df['geometry'].apply(lambda g: g.y)"
   ]
  },
  {
   "cell_type": "code",
   "execution_count": 9,
   "metadata": {},
   "outputs": [],
   "source": [
    "candidate_links = net.links_df.query(sel_query, engine='python')"
   ]
  },
  {
   "cell_type": "code",
   "execution_count": 10,
   "metadata": {},
   "outputs": [],
   "source": [
    "candidate_links['weight'] = 1"
   ]
  },
  {
   "cell_type": "code",
   "execution_count": 12,
   "metadata": {},
   "outputs": [],
   "source": [
    "def add_breadth(candidate_links, nodes, links):\n",
    "    #add outbound and inbound reference IDs from existing nodes\n",
    "    node_list_osmnodeids = list(candidate_links['u']) + list(candidate_links['v'])\n",
    "    candidate_nodes = nodes[nodes[node_key].isin(node_list_osmnodeids)]\n",
    "    links_id_to_add = list(candidate_nodes['outboundreferenceid']) + list(candidate_nodes['inboundreferenceid'])\n",
    "    links_id_to_add = [item for sublist in links_id_to_add for item in sublist if item != '']\n",
    "    for id in links_id_to_add:\n",
    "        if id not in candidate_links['id'].tolist():\n",
    "            link_to_add = links[links['id'] == id]\n",
    "            link_to_add['weight'] = 100\n",
    "            candidate_links.append(link_to_add)\n",
    "            \n",
    "    return candidate_links"
   ]
  },
  {
   "cell_type": "code",
   "execution_count": 71,
   "metadata": {},
   "outputs": [],
   "source": [
    "i = 0\n",
    "MAX_BREADTH = 4\n",
    "while A_id not in node_list_osmnodeids and B_id not in node_list_osmnodeids and i < MAX_BREADTH:\n",
    "   candidate_links = add_breadth(candidate_links, net.nodes_df, net.links_df)\n",
    "   i += 1"
   ]
  },
  {
   "cell_type": "code",
   "execution_count": 72,
   "metadata": {},
   "outputs": [],
   "source": [
    "node_list_osmnodeids = list(candidate_links['u']) + list(candidate_links['v'])\n",
    "candidate_nodes = net.nodes_df[net.nodes_df[node_key].isin(node_list_osmnodeids)]"
   ]
  },
  {
   "cell_type": "code",
   "execution_count": 73,
   "metadata": {},
   "outputs": [],
   "source": [
    "non_candidate_links = net.links_df[~net.links_df.index.isin(candidate_links.index)]\n",
    "non_candidate_links['weight'] = 1000"
   ]
  },
  {
   "cell_type": "code",
   "execution_count": 74,
   "metadata": {},
   "outputs": [],
   "source": [
    "# After applying different weights to the links, still using the entire network (nodes/links) instead of candidate network\n",
    "# TODO: Discuss this part\n",
    "\n",
    "#graph_nodes = candidate_nodes.drop(['inboundreferenceid', 'outboundreferenceid'], axis=1)\n",
    "graph_nodes = net.nodes_df.drop(['inboundreferenceid', 'outboundreferenceid'], axis=1)\n",
    "\n",
    "#graph_edges = candidate_links\n",
    "graph_edges = candidate_links.append(non_candidate_links)"
   ]
  },
  {
   "cell_type": "code",
   "execution_count": 77,
   "metadata": {},
   "outputs": [
    {
     "name": "stdout",
     "output_type": "stream",
     "text": [
      "10.1 s ± 373 ms per loop (mean ± std. dev. of 7 runs, 1 loop each)\n"
     ]
    }
   ],
   "source": [
    "%timeit G = ox.gdfs_to_graph(graph_nodes, graph_edges)\n"
   ]
  },
  {
   "cell_type": "code",
   "execution_count": 81,
   "metadata": {},
   "outputs": [
    {
     "name": "stdout",
     "output_type": "stream",
     "text": [
      "296 ms ± 11.2 ms per loop (mean ± std. dev. of 7 runs, 1 loop each)\n"
     ]
    }
   ],
   "source": [
    "%timeit small_G = ox.gdfs_to_graph(graph_nodes, candidate_links)"
   ]
  },
  {
   "cell_type": "code",
   "execution_count": 90,
   "metadata": {
    "scrolled": false
   },
   "outputs": [
    {
     "data": {
      "text/html": [
       "<div style=\"width:100%;\"><div style=\"position:relative;width:100%;height:0;padding-bottom:60%;\"><iframe src=\"data:text/html;charset=utf-8;base64,PCFET0NUWVBFIGh0bWw+CjxoZWFkPiAgICAKICAgIDxtZXRhIGh0dHAtZXF1aXY9ImNvbnRlbnQtdHlwZSIgY29udGVudD0idGV4dC9odG1sOyBjaGFyc2V0PVVURi04IiAvPgogICAgPHNjcmlwdD5MX1BSRUZFUl9DQU5WQVM9ZmFsc2U7IExfTk9fVE9VQ0g9ZmFsc2U7IExfRElTQUJMRV8zRD1mYWxzZTs8L3NjcmlwdD4KICAgIDxzY3JpcHQgc3JjPSJodHRwczovL2Nkbi5qc2RlbGl2ci5uZXQvbnBtL2xlYWZsZXRAMS40LjAvZGlzdC9sZWFmbGV0LmpzIj48L3NjcmlwdD4KICAgIDxzY3JpcHQgc3JjPSJodHRwczovL2FqYXguZ29vZ2xlYXBpcy5jb20vYWpheC9saWJzL2pxdWVyeS8xLjExLjEvanF1ZXJ5Lm1pbi5qcyI+PC9zY3JpcHQ+CiAgICA8c2NyaXB0IHNyYz0iaHR0cHM6Ly9tYXhjZG4uYm9vdHN0cmFwY2RuLmNvbS9ib290c3RyYXAvMy4yLjAvanMvYm9vdHN0cmFwLm1pbi5qcyI+PC9zY3JpcHQ+CiAgICA8c2NyaXB0IHNyYz0iaHR0cHM6Ly9jZG5qcy5jbG91ZGZsYXJlLmNvbS9hamF4L2xpYnMvTGVhZmxldC5hd2Vzb21lLW1hcmtlcnMvMi4wLjIvbGVhZmxldC5hd2Vzb21lLW1hcmtlcnMuanMiPjwvc2NyaXB0PgogICAgPGxpbmsgcmVsPSJzdHlsZXNoZWV0IiBocmVmPSJodHRwczovL2Nkbi5qc2RlbGl2ci5uZXQvbnBtL2xlYWZsZXRAMS40LjAvZGlzdC9sZWFmbGV0LmNzcyIvPgogICAgPGxpbmsgcmVsPSJzdHlsZXNoZWV0IiBocmVmPSJodHRwczovL21heGNkbi5ib290c3RyYXBjZG4uY29tL2Jvb3RzdHJhcC8zLjIuMC9jc3MvYm9vdHN0cmFwLm1pbi5jc3MiLz4KICAgIDxsaW5rIHJlbD0ic3R5bGVzaGVldCIgaHJlZj0iaHR0cHM6Ly9tYXhjZG4uYm9vdHN0cmFwY2RuLmNvbS9ib290c3RyYXAvMy4yLjAvY3NzL2Jvb3RzdHJhcC10aGVtZS5taW4uY3NzIi8+CiAgICA8bGluayByZWw9InN0eWxlc2hlZXQiIGhyZWY9Imh0dHBzOi8vbWF4Y2RuLmJvb3RzdHJhcGNkbi5jb20vZm9udC1hd2Vzb21lLzQuNi4zL2Nzcy9mb250LWF3ZXNvbWUubWluLmNzcyIvPgogICAgPGxpbmsgcmVsPSJzdHlsZXNoZWV0IiBocmVmPSJodHRwczovL2NkbmpzLmNsb3VkZmxhcmUuY29tL2FqYXgvbGlicy9MZWFmbGV0LmF3ZXNvbWUtbWFya2Vycy8yLjAuMi9sZWFmbGV0LmF3ZXNvbWUtbWFya2Vycy5jc3MiLz4KICAgIDxsaW5rIHJlbD0ic3R5bGVzaGVldCIgaHJlZj0iaHR0cHM6Ly9yYXdjZG4uZ2l0aGFjay5jb20vcHl0aG9uLXZpc3VhbGl6YXRpb24vZm9saXVtL21hc3Rlci9mb2xpdW0vdGVtcGxhdGVzL2xlYWZsZXQuYXdlc29tZS5yb3RhdGUuY3NzIi8+CiAgICA8c3R5bGU+aHRtbCwgYm9keSB7d2lkdGg6IDEwMCU7aGVpZ2h0OiAxMDAlO21hcmdpbjogMDtwYWRkaW5nOiAwO308L3N0eWxlPgogICAgPHN0eWxlPiNtYXAge3Bvc2l0aW9uOmFic29sdXRlO3RvcDowO2JvdHRvbTowO3JpZ2h0OjA7bGVmdDowO308L3N0eWxlPgogICAgCiAgICA8bWV0YSBuYW1lPSJ2aWV3cG9ydCIgY29udGVudD0id2lkdGg9ZGV2aWNlLXdpZHRoLAogICAgICAgIGluaXRpYWwtc2NhbGU9MS4wLCBtYXhpbXVtLXNjYWxlPTEuMCwgdXNlci1zY2FsYWJsZT1ubyIgLz4KICAgIDxzdHlsZT4jbWFwXzQ0MmI2MWU2ZjE0NTQzNjhhM2NjYWU0OWNmN2VhYjM1IHsKICAgICAgICBwb3NpdGlvbjogcmVsYXRpdmU7CiAgICAgICAgd2lkdGg6IDEwMC4wJTsKICAgICAgICBoZWlnaHQ6IDEwMC4wJTsKICAgICAgICBsZWZ0OiAwLjAlOwogICAgICAgIHRvcDogMC4wJTsKICAgICAgICB9CiAgICA8L3N0eWxlPgo8L2hlYWQ+Cjxib2R5PiAgICAKICAgIAogICAgPGRpdiBjbGFzcz0iZm9saXVtLW1hcCIgaWQ9Im1hcF80NDJiNjFlNmYxNDU0MzY4YTNjY2FlNDljZjdlYWIzNSIgPjwvZGl2Pgo8L2JvZHk+CjxzY3JpcHQ+ICAgIAogICAgCiAgICAKICAgICAgICB2YXIgYm91bmRzID0gbnVsbDsKICAgIAoKICAgIHZhciBtYXBfNDQyYjYxZTZmMTQ1NDM2OGEzY2NhZTQ5Y2Y3ZWFiMzUgPSBMLm1hcCgKICAgICAgICAnbWFwXzQ0MmI2MWU2ZjE0NTQzNjhhM2NjYWU0OWNmN2VhYjM1JywgewogICAgICAgIGNlbnRlcjogWzQ0Ljk1MjUyMDQzNDc5NDA0LCAtOTMuMDgyOTc5Nzg1ODQ5MzJdLAogICAgICAgIHpvb206IDEsCiAgICAgICAgbWF4Qm91bmRzOiBib3VuZHMsCiAgICAgICAgbGF5ZXJzOiBbXSwKICAgICAgICB3b3JsZENvcHlKdW1wOiBmYWxzZSwKICAgICAgICBjcnM6IEwuQ1JTLkVQU0czODU3LAogICAgICAgIHpvb21Db250cm9sOiB0cnVlLAogICAgICAgIH0pOwoKCiAgICAKICAgIHZhciB0aWxlX2xheWVyXzE2MzFkNGYxNWQwNzQ2MmJiZjViYzA3OTJkN2IzYThmID0gTC50aWxlTGF5ZXIoCiAgICAgICAgJ2h0dHBzOi8vY2FydG9kYi1iYXNlbWFwcy17c30uZ2xvYmFsLnNzbC5mYXN0bHkubmV0L2xpZ2h0X2FsbC97en0ve3h9L3t5fS5wbmcnLAogICAgICAgIHsKICAgICAgICAiYXR0cmlidXRpb24iOiBudWxsLAogICAgICAgICJkZXRlY3RSZXRpbmEiOiBmYWxzZSwKICAgICAgICAibWF4TmF0aXZlWm9vbSI6IDE4LAogICAgICAgICJtYXhab29tIjogMTgsCiAgICAgICAgIm1pblpvb20iOiAwLAogICAgICAgICJub1dyYXAiOiBmYWxzZSwKICAgICAgICAib3BhY2l0eSI6IDEsCiAgICAgICAgInN1YmRvbWFpbnMiOiAiYWJjIiwKICAgICAgICAidG1zIjogZmFsc2UKfSkuYWRkVG8obWFwXzQ0MmI2MWU2ZjE0NTQzNjhhM2NjYWU0OWNmN2VhYjM1KTsKICAgIAogICAgICAgICAgICAgICAgdmFyIHBvbHlfbGluZV8yYWVhOWNkY2EyMmU0NTc2YjM3NGM2MmEwODU3ZjM2NCA9IEwucG9seWxpbmUoCiAgICAgICAgICAgICAgICAgICAgW1s0NC45NTYwMzkzLCAtOTMuMDc0MzgxMV0sIFs0NC45NTYyNzE2LCAtOTMuMDc0MDY5Ml1dLAogICAgICAgICAgICAgICAgICAgIHsKICAiYnViYmxpbmdNb3VzZUV2ZW50cyI6IHRydWUsCiAgImNvbG9yIjogImdyZWVuIiwKICAiZGFzaEFycmF5IjogbnVsbCwKICAiZGFzaE9mZnNldCI6IG51bGwsCiAgImZpbGwiOiBmYWxzZSwKICAiZmlsbENvbG9yIjogImdyZWVuIiwKICAiZmlsbE9wYWNpdHkiOiAwLjIsCiAgImZpbGxSdWxlIjogImV2ZW5vZGQiLAogICJsaW5lQ2FwIjogInJvdW5kIiwKICAibGluZUpvaW4iOiAicm91bmQiLAogICJub0NsaXAiOiBmYWxzZSwKICAib3BhY2l0eSI6IDEsCiAgInNtb290aEZhY3RvciI6IDEuMCwKICAic3Ryb2tlIjogdHJ1ZSwKICAid2VpZ2h0IjogMwp9CiAgICAgICAgICAgICAgICAgICAgKQogICAgICAgICAgICAgICAgICAgIC5hZGRUbyhtYXBfNDQyYjYxZTZmMTQ1NDM2OGEzY2NhZTQ5Y2Y3ZWFiMzUpOwogICAgICAgICAgICAKICAgIAogICAgICAgICAgICAgICAgdmFyIHBvbHlfbGluZV80NTczMWQ1ZjU0NGM0ZWU4YmM2ODlkNzRhNWNlY2FkYiA9IEwucG9seWxpbmUoCiAgICAgICAgICAgICAgICAgICAgW1s0NC45NTU5NTg1LCAtOTMuMDc0NTEyXSwgWzQ0Ljk1NjAzOTMsIC05My4wNzQzODExXV0sCiAgICAgICAgICAgICAgICAgICAgewogICJidWJibGluZ01vdXNlRXZlbnRzIjogdHJ1ZSwKICAiY29sb3IiOiAiZ3JlZW4iLAogICJkYXNoQXJyYXkiOiBudWxsLAogICJkYXNoT2Zmc2V0IjogbnVsbCwKICAiZmlsbCI6IGZhbHNlLAogICJmaWxsQ29sb3IiOiAiZ3JlZW4iLAogICJmaWxsT3BhY2l0eSI6IDAuMiwKICAiZmlsbFJ1bGUiOiAiZXZlbm9kZCIsCiAgImxpbmVDYXAiOiAicm91bmQiLAogICJsaW5lSm9pbiI6ICJyb3VuZCIsCiAgIm5vQ2xpcCI6IGZhbHNlLAogICJvcGFjaXR5IjogMSwKICAic21vb3RoRmFjdG9yIjogMS4wLAogICJzdHJva2UiOiB0cnVlLAogICJ3ZWlnaHQiOiAzCn0KICAgICAgICAgICAgICAgICAgICApCiAgICAgICAgICAgICAgICAgICAgLmFkZFRvKG1hcF80NDJiNjFlNmYxNDU0MzY4YTNjY2FlNDljZjdlYWIzNSk7CiAgICAgICAgICAgIAogICAgCiAgICAgICAgICAgICAgICB2YXIgcG9seV9saW5lX2I1ODUyNzQ0ZjQwNzRhYzdhMTAwZWZmODg1ZWJjMDg4ID0gTC5wb2x5bGluZSgKICAgICAgICAgICAgICAgICAgICBbWzQ0Ljk1NjI3MTYsIC05My4wNzQwNjkyXSwgWzQ0Ljk1Njk2OTEsIC05My4wNzI1OTU3XV0sCiAgICAgICAgICAgICAgICAgICAgewogICJidWJibGluZ01vdXNlRXZlbnRzIjogdHJ1ZSwKICAiY29sb3IiOiAiZ3JlZW4iLAogICJkYXNoQXJyYXkiOiBudWxsLAogICJkYXNoT2Zmc2V0IjogbnVsbCwKICAiZmlsbCI6IGZhbHNlLAogICJmaWxsQ29sb3IiOiAiZ3JlZW4iLAogICJmaWxsT3BhY2l0eSI6IDAuMiwKICAiZmlsbFJ1bGUiOiAiZXZlbm9kZCIsCiAgImxpbmVDYXAiOiAicm91bmQiLAogICJsaW5lSm9pbiI6ICJyb3VuZCIsCiAgIm5vQ2xpcCI6IGZhbHNlLAogICJvcGFjaXR5IjogMSwKICAic21vb3RoRmFjdG9yIjogMS4wLAogICJzdHJva2UiOiB0cnVlLAogICJ3ZWlnaHQiOiAzCn0KICAgICAgICAgICAgICAgICAgICApCiAgICAgICAgICAgICAgICAgICAgLmFkZFRvKG1hcF80NDJiNjFlNmYxNDU0MzY4YTNjY2FlNDljZjdlYWIzNSk7CiAgICAgICAgICAgIAogICAgCiAgICAgICAgICAgICAgICB2YXIgcG9seV9saW5lXzY0Mjk2MGZjNjQ4MjQ0YmJiODY1ZmRhZDE1YWU3NDNmID0gTC5wb2x5bGluZSgKICAgICAgICAgICAgICAgICAgICBbWzQ0Ljk1NjI3MTYsIC05My4wNzQwNjkyXSwgWzQ0Ljk1NjA5NjYsIC05My4wNzQ0ODA5XV0sCiAgICAgICAgICAgICAgICAgICAgewogICJidWJibGluZ01vdXNlRXZlbnRzIjogdHJ1ZSwKICAiY29sb3IiOiAiZ3JlZW4iLAogICJkYXNoQXJyYXkiOiBudWxsLAogICJkYXNoT2Zmc2V0IjogbnVsbCwKICAiZmlsbCI6IGZhbHNlLAogICJmaWxsQ29sb3IiOiAiZ3JlZW4iLAogICJmaWxsT3BhY2l0eSI6IDAuMiwKICAiZmlsbFJ1bGUiOiAiZXZlbm9kZCIsCiAgImxpbmVDYXAiOiAicm91bmQiLAogICJsaW5lSm9pbiI6ICJyb3VuZCIsCiAgIm5vQ2xpcCI6IGZhbHNlLAogICJvcGFjaXR5IjogMSwKICAic21vb3RoRmFjdG9yIjogMS4wLAogICJzdHJva2UiOiB0cnVlLAogICJ3ZWlnaHQiOiAzCn0KICAgICAgICAgICAgICAgICAgICApCiAgICAgICAgICAgICAgICAgICAgLmFkZFRvKG1hcF80NDJiNjFlNmYxNDU0MzY4YTNjY2FlNDljZjdlYWIzNSk7CiAgICAgICAgICAgIAogICAgCiAgICAgICAgICAgICAgICB2YXIgcG9seV9saW5lX2RjYjIwZGE3OWE0YjQ4ZWNhY2M1NmM5YTJiOWY2NDUzID0gTC5wb2x5bGluZSgKICAgICAgICAgICAgICAgICAgICBbWzQ0Ljk1NjA5NjYsIC05My4wNzQ0ODA5XSwgWzQ0Ljk1NjAyOTcsIC05My4wNzQ2Mjc0XV0sCiAgICAgICAgICAgICAgICAgICAgewogICJidWJibGluZ01vdXNlRXZlbnRzIjogdHJ1ZSwKICAiY29sb3IiOiAiZ3JlZW4iLAogICJkYXNoQXJyYXkiOiBudWxsLAogICJkYXNoT2Zmc2V0IjogbnVsbCwKICAiZmlsbCI6IGZhbHNlLAogICJmaWxsQ29sb3IiOiAiZ3JlZW4iLAogICJmaWxsT3BhY2l0eSI6IDAuMiwKICAiZmlsbFJ1bGUiOiAiZXZlbm9kZCIsCiAgImxpbmVDYXAiOiAicm91bmQiLAogICJsaW5lSm9pbiI6ICJyb3VuZCIsCiAgIm5vQ2xpcCI6IGZhbHNlLAogICJvcGFjaXR5IjogMSwKICAic21vb3RoRmFjdG9yIjogMS4wLAogICJzdHJva2UiOiB0cnVlLAogICJ3ZWlnaHQiOiAzCn0KICAgICAgICAgICAgICAgICAgICApCiAgICAgICAgICAgICAgICAgICAgLmFkZFRvKG1hcF80NDJiNjFlNmYxNDU0MzY4YTNjY2FlNDljZjdlYWIzNSk7CiAgICAgICAgICAgIAogICAgCiAgICAgICAgICAgICAgICB2YXIgcG9seV9saW5lXzNjYmE1NDllYzY3MzRmNTliZjRhMGRiNjgzODIxMmMzID0gTC5wb2x5bGluZSgKICAgICAgICAgICAgICAgICAgICBbWzQ0Ljk0NjA4ODQsIC05My4wOTcxODM5XSwgWzQ0Ljk0NjEwOTIsIC05My4wOTc0MDExXV0sCiAgICAgICAgICAgICAgICAgICAgewogICJidWJibGluZ01vdXNlRXZlbnRzIjogdHJ1ZSwKICAiY29sb3IiOiAiZ3JlZW4iLAogICJkYXNoQXJyYXkiOiBudWxsLAogICJkYXNoT2Zmc2V0IjogbnVsbCwKICAiZmlsbCI6IGZhbHNlLAogICJmaWxsQ29sb3IiOiAiZ3JlZW4iLAogICJmaWxsT3BhY2l0eSI6IDAuMiwKICAiZmlsbFJ1bGUiOiAiZXZlbm9kZCIsCiAgImxpbmVDYXAiOiAicm91bmQiLAogICJsaW5lSm9pbiI6ICJyb3VuZCIsCiAgIm5vQ2xpcCI6IGZhbHNlLAogICJvcGFjaXR5IjogMSwKICAic21vb3RoRmFjdG9yIjogMS4wLAogICJzdHJva2UiOiB0cnVlLAogICJ3ZWlnaHQiOiAzCn0KICAgICAgICAgICAgICAgICAgICApCiAgICAgICAgICAgICAgICAgICAgLmFkZFRvKG1hcF80NDJiNjFlNmYxNDU0MzY4YTNjY2FlNDljZjdlYWIzNSk7CiAgICAgICAgICAgIAogICAgCiAgICAgICAgICAgICAgICB2YXIgcG9seV9saW5lX2M3M2JhMzM1NDMwZDQwN2NiNDQwOTk3NDQwZmJlYTVlID0gTC5wb2x5bGluZSgKICAgICAgICAgICAgICAgICAgICBbWzQ0Ljk1MDYzNjYsIC05My4wODU1NTMzXSwgWzQ0Ljk1MDgzMDcsIC05My4wODYxNjQ1XV0sCiAgICAgICAgICAgICAgICAgICAgewogICJidWJibGluZ01vdXNlRXZlbnRzIjogdHJ1ZSwKICAiY29sb3IiOiAiZ3JlZW4iLAogICJkYXNoQXJyYXkiOiBudWxsLAogICJkYXNoT2Zmc2V0IjogbnVsbCwKICAiZmlsbCI6IGZhbHNlLAogICJmaWxsQ29sb3IiOiAiZ3JlZW4iLAogICJmaWxsT3BhY2l0eSI6IDAuMiwKICAiZmlsbFJ1bGUiOiAiZXZlbm9kZCIsCiAgImxpbmVDYXAiOiAicm91bmQiLAogICJsaW5lSm9pbiI6ICJyb3VuZCIsCiAgIm5vQ2xpcCI6IGZhbHNlLAogICJvcGFjaXR5IjogMSwKICAic21vb3RoRmFjdG9yIjogMS4wLAogICJzdHJva2UiOiB0cnVlLAogICJ3ZWlnaHQiOiAzCn0KICAgICAgICAgICAgICAgICAgICApCiAgICAgICAgICAgICAgICAgICAgLmFkZFRvKG1hcF80NDJiNjFlNmYxNDU0MzY4YTNjY2FlNDljZjdlYWIzNSk7CiAgICAgICAgICAgIAogICAgCiAgICAgICAgICAgICAgICB2YXIgcG9seV9saW5lXzU3OWIyY2NkMTlkNTQzNTRiZTFjNmFhYTUyMjYzMGM2ID0gTC5wb2x5bGluZSgKICAgICAgICAgICAgICAgICAgICBbWzQ0Ljk2MDA4MDEsIC05My4wNjYwNjczXSwgWzQ0Ljk1OTYzOSwgLTkzLjA2N11dLAogICAgICAgICAgICAgICAgICAgIHsKICAiYnViYmxpbmdNb3VzZUV2ZW50cyI6IHRydWUsCiAgImNvbG9yIjogImdyZWVuIiwKICAiZGFzaEFycmF5IjogbnVsbCwKICAiZGFzaE9mZnNldCI6IG51bGwsCiAgImZpbGwiOiBmYWxzZSwKICAiZmlsbENvbG9yIjogImdyZWVuIiwKICAiZmlsbE9wYWNpdHkiOiAwLjIsCiAgImZpbGxSdWxlIjogImV2ZW5vZGQiLAogICJsaW5lQ2FwIjogInJvdW5kIiwKICAibGluZUpvaW4iOiAicm91bmQiLAogICJub0NsaXAiOiBmYWxzZSwKICAib3BhY2l0eSI6IDEsCiAgInNtb290aEZhY3RvciI6IDEuMCwKICAic3Ryb2tlIjogdHJ1ZSwKICAid2VpZ2h0IjogMwp9CiAgICAgICAgICAgICAgICAgICAgKQogICAgICAgICAgICAgICAgICAgIC5hZGRUbyhtYXBfNDQyYjYxZTZmMTQ1NDM2OGEzY2NhZTQ5Y2Y3ZWFiMzUpOwogICAgICAgICAgICAKICAgIAogICAgICAgICAgICAgICAgdmFyIHBvbHlfbGluZV80YmJjZDA5YmZlY2M0MDY2OTY1MmExN2QxNzczNWJkZCA9IEwucG9seWxpbmUoCiAgICAgICAgICAgICAgICAgICAgW1s0NC45NjAwODAxLCAtOTMuMDY2MDY3M10sIFs0NC45NjAyODUzLCAtOTMuMDY1ODEwOV1dLAogICAgICAgICAgICAgICAgICAgIHsKICAiYnViYmxpbmdNb3VzZUV2ZW50cyI6IHRydWUsCiAgImNvbG9yIjogImdyZWVuIiwKICAiZGFzaEFycmF5IjogbnVsbCwKICAiZGFzaE9mZnNldCI6IG51bGwsCiAgImZpbGwiOiBmYWxzZSwKICAiZmlsbENvbG9yIjogImdyZWVuIiwKICAiZmlsbE9wYWNpdHkiOiAwLjIsCiAgImZpbGxSdWxlIjogImV2ZW5vZGQiLAogICJsaW5lQ2FwIjogInJvdW5kIiwKICAibGluZUpvaW4iOiAicm91bmQiLAogICJub0NsaXAiOiBmYWxzZSwKICAib3BhY2l0eSI6IDEsCiAgInNtb290aEZhY3RvciI6IDEuMCwKICAic3Ryb2tlIjogdHJ1ZSwKICAid2VpZ2h0IjogMwp9CiAgICAgICAgICAgICAgICAgICAgKQogICAgICAgICAgICAgICAgICAgIC5hZGRUbyhtYXBfNDQyYjYxZTZmMTQ1NDM2OGEzY2NhZTQ5Y2Y3ZWFiMzUpOwogICAgICAgICAgICAKICAgIAogICAgICAgICAgICAgICAgdmFyIHBvbHlfbGluZV9lYTU1ZmNiNDk4M2M0MDk0YWE5MjA5NmUzZGJhZTRmZiA9IEwucG9seWxpbmUoCiAgICAgICAgICAgICAgICAgICAgW1s0NC45NjAzNDY5LCAtOTMuMDY1NTQ3OF0sIFs0NC45NjAzNDksIC05My4wNjM1MjNdXSwKICAgICAgICAgICAgICAgICAgICB7CiAgImJ1YmJsaW5nTW91c2VFdmVudHMiOiB0cnVlLAogICJjb2xvciI6ICJncmVlbiIsCiAgImRhc2hBcnJheSI6IG51bGwsCiAgImRhc2hPZmZzZXQiOiBudWxsLAogICJmaWxsIjogZmFsc2UsCiAgImZpbGxDb2xvciI6ICJncmVlbiIsCiAgImZpbGxPcGFjaXR5IjogMC4yLAogICJmaWxsUnVsZSI6ICJldmVub2RkIiwKICAibGluZUNhcCI6ICJyb3VuZCIsCiAgImxpbmVKb2luIjogInJvdW5kIiwKICAibm9DbGlwIjogZmFsc2UsCiAgIm9wYWNpdHkiOiAxLAogICJzbW9vdGhGYWN0b3IiOiAxLjAsCiAgInN0cm9rZSI6IHRydWUsCiAgIndlaWdodCI6IDMKfQogICAgICAgICAgICAgICAgICAgICkKICAgICAgICAgICAgICAgICAgICAuYWRkVG8obWFwXzQ0MmI2MWU2ZjE0NTQzNjhhM2NjYWU0OWNmN2VhYjM1KTsKICAgICAgICAgICAgCiAgICAKICAgICAgICAgICAgICAgIHZhciBwb2x5X2xpbmVfMTRhMGIyZmNlYzU0NGQwY2ExOWM2NDc3OTMwMmI4YWMgPSBMLnBvbHlsaW5lKAogICAgICAgICAgICAgICAgICAgIFtbNDQuOTYwMzQ2OSwgLTkzLjA2NTU0NzhdLCBbNDQuOTYwMzcwOSwgLTkzLjA2NTgxODNdXSwKICAgICAgICAgICAgICAgICAgICB7CiAgImJ1YmJsaW5nTW91c2VFdmVudHMiOiB0cnVlLAogICJjb2xvciI6ICJncmVlbiIsCiAgImRhc2hBcnJheSI6IG51bGwsCiAgImRhc2hPZmZzZXQiOiBudWxsLAogICJmaWxsIjogZmFsc2UsCiAgImZpbGxDb2xvciI6ICJncmVlbiIsCiAgImZpbGxPcGFjaXR5IjogMC4yLAogICJmaWxsUnVsZSI6ICJldmVub2RkIiwKICAibGluZUNhcCI6ICJyb3VuZCIsCiAgImxpbmVKb2luIjogInJvdW5kIiwKICAibm9DbGlwIjogZmFsc2UsCiAgIm9wYWNpdHkiOiAxLAogICJzbW9vdGhGYWN0b3IiOiAxLjAsCiAgInN0cm9rZSI6IHRydWUsCiAgIndlaWdodCI6IDMKfQogICAgICAgICAgICAgICAgICAgICkKICAgICAgICAgICAgICAgICAgICAuYWRkVG8obWFwXzQ0MmI2MWU2ZjE0NTQzNjhhM2NjYWU0OWNmN2VhYjM1KTsKICAgICAgICAgICAgCiAgICAKICAgICAgICAgICAgICAgIHZhciBwb2x5X2xpbmVfMDhmNzIwNWI2ODIwNGU4NGI0M2JmNjFkYzJhMDQzOWYgPSBMLnBvbHlsaW5lKAogICAgICAgICAgICAgICAgICAgIFtbNDQuOTYwMjg1MywgLTkzLjA2NTgxMDldLCBbNDQuOTYwMzQ2OSwgLTkzLjA2NTU0NzhdXSwKICAgICAgICAgICAgICAgICAgICB7CiAgImJ1YmJsaW5nTW91c2VFdmVudHMiOiB0cnVlLAogICJjb2xvciI6ICJncmVlbiIsCiAgImRhc2hBcnJheSI6IG51bGwsCiAgImRhc2hPZmZzZXQiOiBudWxsLAogICJmaWxsIjogZmFsc2UsCiAgImZpbGxDb2xvciI6ICJncmVlbiIsCiAgImZpbGxPcGFjaXR5IjogMC4yLAogICJmaWxsUnVsZSI6ICJldmVub2RkIiwKICAibGluZUNhcCI6ICJyb3VuZCIsCiAgImxpbmVKb2luIjogInJvdW5kIiwKICAibm9DbGlwIjogZmFsc2UsCiAgIm9wYWNpdHkiOiAxLAogICJzbW9vdGhGYWN0b3IiOiAxLjAsCiAgInN0cm9rZSI6IHRydWUsCiAgIndlaWdodCI6IDMKfQogICAgICAgICAgICAgICAgICAgICkKICAgICAgICAgICAgICAgICAgICAuYWRkVG8obWFwXzQ0MmI2MWU2ZjE0NTQzNjhhM2NjYWU0OWNmN2VhYjM1KTsKICAgICAgICAgICAgCiAgICAKICAgICAgICAgICAgICAgIHZhciBwb2x5X2xpbmVfNTYxZTdhMWJkZjU2NDMzM2FiZjRiYmQ2ZGQzNTc5MGUgPSBMLnBvbHlsaW5lKAogICAgICAgICAgICAgICAgICAgIFtbNDQuOTYwMzcwOSwgLTkzLjA2NTgxODNdLCBbNDQuOTYwMDgwMSwgLTkzLjA2NjA2NzNdXSwKICAgICAgICAgICAgICAgICAgICB7CiAgImJ1YmJsaW5nTW91c2VFdmVudHMiOiB0cnVlLAogICJjb2xvciI6ICJncmVlbiIsCiAgImRhc2hBcnJheSI6IG51bGwsCiAgImRhc2hPZmZzZXQiOiBudWxsLAogICJmaWxsIjogZmFsc2UsCiAgImZpbGxDb2xvciI6ICJncmVlbiIsCiAgImZpbGxPcGFjaXR5IjogMC4yLAogICJmaWxsUnVsZSI6ICJldmVub2RkIiwKICAibGluZUNhcCI6ICJyb3VuZCIsCiAgImxpbmVKb2luIjogInJvdW5kIiwKICAibm9DbGlwIjogZmFsc2UsCiAgIm9wYWNpdHkiOiAxLAogICJzbW9vdGhGYWN0b3IiOiAxLjAsCiAgInN0cm9rZSI6IHRydWUsCiAgIndlaWdodCI6IDMKfQogICAgICAgICAgICAgICAgICAgICkKICAgICAgICAgICAgICAgICAgICAuYWRkVG8obWFwXzQ0MmI2MWU2ZjE0NTQzNjhhM2NjYWU0OWNmN2VhYjM1KTsKICAgICAgICAgICAgCiAgICAKICAgICAgICAgICAgICAgIHZhciBwb2x5X2xpbmVfZjVkMzcwNTM0N2QyNDNhZGJhMjg1YTE4OThiYjg5YmMgPSBMLnBvbHlsaW5lKAogICAgICAgICAgICAgICAgICAgIFtbNDQuOTQ4ODgwNiwgLTkzLjA5MDIzOTddLCBbNDQuOTQ4MjI4NCwgLTkzLjA5MTYzNF1dLAogICAgICAgICAgICAgICAgICAgIHsKICAiYnViYmxpbmdNb3VzZUV2ZW50cyI6IHRydWUsCiAgImNvbG9yIjogImdyZWVuIiwKICAiZGFzaEFycmF5IjogbnVsbCwKICAiZGFzaE9mZnNldCI6IG51bGwsCiAgImZpbGwiOiBmYWxzZSwKICAiZmlsbENvbG9yIjogImdyZWVuIiwKICAiZmlsbE9wYWNpdHkiOiAwLjIsCiAgImZpbGxSdWxlIjogImV2ZW5vZGQiLAogICJsaW5lQ2FwIjogInJvdW5kIiwKICAibGluZUpvaW4iOiAicm91bmQiLAogICJub0NsaXAiOiBmYWxzZSwKICAib3BhY2l0eSI6IDEsCiAgInNtb290aEZhY3RvciI6IDEuMCwKICAic3Ryb2tlIjogdHJ1ZSwKICAid2VpZ2h0IjogMwp9CiAgICAgICAgICAgICAgICAgICAgKQogICAgICAgICAgICAgICAgICAgIC5hZGRUbyhtYXBfNDQyYjYxZTZmMTQ1NDM2OGEzY2NhZTQ5Y2Y3ZWFiMzUpOwogICAgICAgICAgICAKICAgIAogICAgICAgICAgICAgICAgdmFyIHBvbHlfbGluZV8yZjQ1ZjU4MTAwMTk0ZDE0YTY4NDNhZjhkMzJlOGRjMyA9IEwucG9seWxpbmUoCiAgICAgICAgICAgICAgICAgICAgW1s0NC45NDc2NDAyLCAtOTMuMDkyODcwN10sIFs0NC45NDcwNzA5LCAtOTMuMDk0MDQ0NV1dLAogICAgICAgICAgICAgICAgICAgIHsKICAiYnViYmxpbmdNb3VzZUV2ZW50cyI6IHRydWUsCiAgImNvbG9yIjogImdyZWVuIiwKICAiZGFzaEFycmF5IjogbnVsbCwKICAiZGFzaE9mZnNldCI6IG51bGwsCiAgImZpbGwiOiBmYWxzZSwKICAiZmlsbENvbG9yIjogImdyZWVuIiwKICAiZmlsbE9wYWNpdHkiOiAwLjIsCiAgImZpbGxSdWxlIjogImV2ZW5vZGQiLAogICJsaW5lQ2FwIjogInJvdW5kIiwKICAibGluZUpvaW4iOiAicm91bmQiLAogICJub0NsaXAiOiBmYWxzZSwKICAib3BhY2l0eSI6IDEsCiAgInNtb290aEZhY3RvciI6IDEuMCwKICAic3Ryb2tlIjogdHJ1ZSwKICAid2VpZ2h0IjogMwp9CiAgICAgICAgICAgICAgICAgICAgKQogICAgICAgICAgICAgICAgICAgIC5hZGRUbyhtYXBfNDQyYjYxZTZmMTQ1NDM2OGEzY2NhZTQ5Y2Y3ZWFiMzUpOwogICAgICAgICAgICAKICAgIAogICAgICAgICAgICAgICAgdmFyIHBvbHlfbGluZV8xNWVlNmNmZGMyNzI0NzE3YWFmMDk2OTEzZGUyNmQ0OCA9IEwucG9seWxpbmUoCiAgICAgICAgICAgICAgICAgICAgW1s0NC45NDYwMjY3LCAtOTMuMDk2NDk0M10sIFs0NC45NDYwNjIsIC05My4wOTY4NTFdXSwKICAgICAgICAgICAgICAgICAgICB7CiAgImJ1YmJsaW5nTW91c2VFdmVudHMiOiB0cnVlLAogICJjb2xvciI6ICJncmVlbiIsCiAgImRhc2hBcnJheSI6IG51bGwsCiAgImRhc2hPZmZzZXQiOiBudWxsLAogICJmaWxsIjogZmFsc2UsCiAgImZpbGxDb2xvciI6ICJncmVlbiIsCiAgImZpbGxPcGFjaXR5IjogMC4yLAogICJmaWxsUnVsZSI6ICJldmVub2RkIiwKICAibGluZUNhcCI6ICJyb3VuZCIsCiAgImxpbmVKb2luIjogInJvdW5kIiwKICAibm9DbGlwIjogZmFsc2UsCiAgIm9wYWNpdHkiOiAxLAogICJzbW9vdGhGYWN0b3IiOiAxLjAsCiAgInN0cm9rZSI6IHRydWUsCiAgIndlaWdodCI6IDMKfQogICAgICAgICAgICAgICAgICAgICkKICAgICAgICAgICAgICAgICAgICAuYWRkVG8obWFwXzQ0MmI2MWU2ZjE0NTQzNjhhM2NjYWU0OWNmN2VhYjM1KTsKICAgICAgICAgICAgCiAgICAKICAgICAgICAgICAgICAgIHZhciBwb2x5X2xpbmVfOWM2YjEzYjFmMDU4NGM5Mjg1NzEzYzViOTcwM2RmNjYgPSBMLnBvbHlsaW5lKAogICAgICAgICAgICAgICAgICAgIFtbNDQuOTQ2MDYyLCAtOTMuMDk2ODUxXSwgWzQ0Ljk0NjA4ODQsIC05My4wOTcxODM5XV0sCiAgICAgICAgICAgICAgICAgICAgewogICJidWJibGluZ01vdXNlRXZlbnRzIjogdHJ1ZSwKICAiY29sb3IiOiAiZ3JlZW4iLAogICJkYXNoQXJyYXkiOiBudWxsLAogICJkYXNoT2Zmc2V0IjogbnVsbCwKICAiZmlsbCI6IGZhbHNlLAogICJmaWxsQ29sb3IiOiAiZ3JlZW4iLAogICJmaWxsT3BhY2l0eSI6IDAuMiwKICAiZmlsbFJ1bGUiOiAiZXZlbm9kZCIsCiAgImxpbmVDYXAiOiAicm91bmQiLAogICJsaW5lSm9pbiI6ICJyb3VuZCIsCiAgIm5vQ2xpcCI6IGZhbHNlLAogICJvcGFjaXR5IjogMSwKICAic21vb3RoRmFjdG9yIjogMS4wLAogICJzdHJva2UiOiB0cnVlLAogICJ3ZWlnaHQiOiAzCn0KICAgICAgICAgICAgICAgICAgICApCiAgICAgICAgICAgICAgICAgICAgLmFkZFRvKG1hcF80NDJiNjFlNmYxNDU0MzY4YTNjY2FlNDljZjdlYWIzNSk7CiAgICAgICAgICAgIAogICAgCiAgICAgICAgICAgICAgICB2YXIgcG9seV9saW5lXzE4ZDc3MTg3YzBkMzQwYjE4NDRmYzYxYjM4NjUwZmZmID0gTC5wb2x5bGluZSgKICAgICAgICAgICAgICAgICAgICBbWzQ0Ljk0NjEwOTIsIC05My4wOTc0MDExXSwgWzQ0Ljk0NjMyODQsIC05My4wOTk2NDU3XV0sCiAgICAgICAgICAgICAgICAgICAgewogICJidWJibGluZ01vdXNlRXZlbnRzIjogdHJ1ZSwKICAiY29sb3IiOiAiZ3JlZW4iLAogICJkYXNoQXJyYXkiOiBudWxsLAogICJkYXNoT2Zmc2V0IjogbnVsbCwKICAiZmlsbCI6IGZhbHNlLAogICJmaWxsQ29sb3IiOiAiZ3JlZW4iLAogICJmaWxsT3BhY2l0eSI6IDAuMiwKICAiZmlsbFJ1bGUiOiAiZXZlbm9kZCIsCiAgImxpbmVDYXAiOiAicm91bmQiLAogICJsaW5lSm9pbiI6ICJyb3VuZCIsCiAgIm5vQ2xpcCI6IGZhbHNlLAogICJvcGFjaXR5IjogMSwKICAic21vb3RoRmFjdG9yIjogMS4wLAogICJzdHJva2UiOiB0cnVlLAogICJ3ZWlnaHQiOiAzCn0KICAgICAgICAgICAgICAgICAgICApCiAgICAgICAgICAgICAgICAgICAgLmFkZFRvKG1hcF80NDJiNjFlNmYxNDU0MzY4YTNjY2FlNDljZjdlYWIzNSk7CiAgICAgICAgICAgIAogICAgCiAgICAgICAgICAgICAgICB2YXIgcG9seV9saW5lXzg0MjA4OTY5NTJiOTRlY2NiMWI2ZTAxNTEwNDU2YjI4ID0gTC5wb2x5bGluZSgKICAgICAgICAgICAgICAgICAgICBbWzQ0Ljk0NjQyNzYsIC05My4xMDA2ODE2XSwgWzQ0Ljk0NjU5NjYsIC05My4xMDIzMzMyXV0sCiAgICAgICAgICAgICAgICAgICAgewogICJidWJibGluZ01vdXNlRXZlbnRzIjogdHJ1ZSwKICAiY29sb3IiOiAiZ3JlZW4iLAogICJkYXNoQXJyYXkiOiBudWxsLAogICJkYXNoT2Zmc2V0IjogbnVsbCwKICAiZmlsbCI6IGZhbHNlLAogICJmaWxsQ29sb3IiOiAiZ3JlZW4iLAogICJmaWxsT3BhY2l0eSI6IDAuMiwKICAiZmlsbFJ1bGUiOiAiZXZlbm9kZCIsCiAgImxpbmVDYXAiOiAicm91bmQiLAogICJsaW5lSm9pbiI6ICJyb3VuZCIsCiAgIm5vQ2xpcCI6IGZhbHNlLAogICJvcGFjaXR5IjogMSwKICAic21vb3RoRmFjdG9yIjogMS4wLAogICJzdHJva2UiOiB0cnVlLAogICJ3ZWlnaHQiOiAzCn0KICAgICAgICAgICAgICAgICAgICApCiAgICAgICAgICAgICAgICAgICAgLmFkZFRvKG1hcF80NDJiNjFlNmYxNDU0MzY4YTNjY2FlNDljZjdlYWIzNSk7CiAgICAgICAgICAgIAogICAgCiAgICAgICAgICAgICAgICB2YXIgcG9seV9saW5lX2VmMDVkMzQ2OTUzMjQxYTFiYmMwNTY0NDAwOGZiMzEzID0gTC5wb2x5bGluZSgKICAgICAgICAgICAgICAgICAgICBbWzQ0Ljk0NjQ5NDgsIC05My4wOTUyNDk0XSwgWzQ0Ljk0NjA0MjMsIC05My4wOTYxOTE1XV0sCiAgICAgICAgICAgICAgICAgICAgewogICJidWJibGluZ01vdXNlRXZlbnRzIjogdHJ1ZSwKICAiY29sb3IiOiAiZ3JlZW4iLAogICJkYXNoQXJyYXkiOiBudWxsLAogICJkYXNoT2Zmc2V0IjogbnVsbCwKICAiZmlsbCI6IGZhbHNlLAogICJmaWxsQ29sb3IiOiAiZ3JlZW4iLAogICJmaWxsT3BhY2l0eSI6IDAuMiwKICAiZmlsbFJ1bGUiOiAiZXZlbm9kZCIsCiAgImxpbmVDYXAiOiAicm91bmQiLAogICJsaW5lSm9pbiI6ICJyb3VuZCIsCiAgIm5vQ2xpcCI6IGZhbHNlLAogICJvcGFjaXR5IjogMSwKICAic21vb3RoRmFjdG9yIjogMS4wLAogICJzdHJva2UiOiB0cnVlLAogICJ3ZWlnaHQiOiAzCn0KICAgICAgICAgICAgICAgICAgICApCiAgICAgICAgICAgICAgICAgICAgLmFkZFRvKG1hcF80NDJiNjFlNmYxNDU0MzY4YTNjY2FlNDljZjdlYWIzNSk7CiAgICAgICAgICAgIAogICAgCiAgICAgICAgICAgICAgICB2YXIgcG9seV9saW5lXzc5NWFhZjkwMWU5YzQ1ZDBhYWFkN2ViOWU5ZDEzMzIxID0gTC5wb2x5bGluZSgKICAgICAgICAgICAgICAgICAgICBbWzQ0Ljk1MDYxNzEsIC05My4wODY2MDI1XSwgWzQ0Ljk1MDA2NTYsIC05My4wODc3NTg0XV0sCiAgICAgICAgICAgICAgICAgICAgewogICJidWJibGluZ01vdXNlRXZlbnRzIjogdHJ1ZSwKICAiY29sb3IiOiAiZ3JlZW4iLAogICJkYXNoQXJyYXkiOiBudWxsLAogICJkYXNoT2Zmc2V0IjogbnVsbCwKICAiZmlsbCI6IGZhbHNlLAogICJmaWxsQ29sb3IiOiAiZ3JlZW4iLAogICJmaWxsT3BhY2l0eSI6IDAuMiwKICAiZmlsbFJ1bGUiOiAiZXZlbm9kZCIsCiAgImxpbmVDYXAiOiAicm91bmQiLAogICJsaW5lSm9pbiI6ICJyb3VuZCIsCiAgIm5vQ2xpcCI6IGZhbHNlLAogICJvcGFjaXR5IjogMSwKICAic21vb3RoRmFjdG9yIjogMS4wLAogICJzdHJva2UiOiB0cnVlLAogICJ3ZWlnaHQiOiAzCn0KICAgICAgICAgICAgICAgICAgICApCiAgICAgICAgICAgICAgICAgICAgLmFkZFRvKG1hcF80NDJiNjFlNmYxNDU0MzY4YTNjY2FlNDljZjdlYWIzNSk7CiAgICAgICAgICAgIAogICAgCiAgICAgICAgICAgICAgICB2YXIgcG9seV9saW5lX2M0YjNlMmZlYmFhMjQyMzM5Y2M5NzdiZjNiMTI4NmU2ID0gTC5wb2x5bGluZSgKICAgICAgICAgICAgICAgICAgICBbWzQ0Ljk0ODIyODQsIC05My4wOTE2MzRdLCBbNDQuOTQ3NjQwMiwgLTkzLjA5Mjg3MDddXSwKICAgICAgICAgICAgICAgICAgICB7CiAgImJ1YmJsaW5nTW91c2VFdmVudHMiOiB0cnVlLAogICJjb2xvciI6ICJncmVlbiIsCiAgImRhc2hBcnJheSI6IG51bGwsCiAgImRhc2hPZmZzZXQiOiBudWxsLAogICJmaWxsIjogZmFsc2UsCiAgImZpbGxDb2xvciI6ICJncmVlbiIsCiAgImZpbGxPcGFjaXR5IjogMC4yLAogICJmaWxsUnVsZSI6ICJldmVub2RkIiwKICAibGluZUNhcCI6ICJyb3VuZCIsCiAgImxpbmVKb2luIjogInJvdW5kIiwKICAibm9DbGlwIjogZmFsc2UsCiAgIm9wYWNpdHkiOiAxLAogICJzbW9vdGhGYWN0b3IiOiAxLjAsCiAgInN0cm9rZSI6IHRydWUsCiAgIndlaWdodCI6IDMKfQogICAgICAgICAgICAgICAgICAgICkKICAgICAgICAgICAgICAgICAgICAuYWRkVG8obWFwXzQ0MmI2MWU2ZjE0NTQzNjhhM2NjYWU0OWNmN2VhYjM1KTsKICAgICAgICAgICAgCiAgICAKICAgICAgICAgICAgICAgIHZhciBwb2x5X2xpbmVfODViZTBlOTI1YTU0NDJhYTk2MzhkZGVkN2E2YTNiNmQgPSBMLnBvbHlsaW5lKAogICAgICAgICAgICAgICAgICAgIFtbNDQuOTQ5NTE1NywgLTkzLjA4ODkxMzFdLCBbNDQuOTQ4ODgwNiwgLTkzLjA5MDIzOTddXSwKICAgICAgICAgICAgICAgICAgICB7CiAgImJ1YmJsaW5nTW91c2VFdmVudHMiOiB0cnVlLAogICJjb2xvciI6ICJncmVlbiIsCiAgImRhc2hBcnJheSI6IG51bGwsCiAgImRhc2hPZmZzZXQiOiBudWxsLAogICJmaWxsIjogZmFsc2UsCiAgImZpbGxDb2xvciI6ICJncmVlbiIsCiAgImZpbGxPcGFjaXR5IjogMC4yLAogICJmaWxsUnVsZSI6ICJldmVub2RkIiwKICAibGluZUNhcCI6ICJyb3VuZCIsCiAgImxpbmVKb2luIjogInJvdW5kIiwKICAibm9DbGlwIjogZmFsc2UsCiAgIm9wYWNpdHkiOiAxLAogICJzbW9vdGhGYWN0b3IiOiAxLjAsCiAgInN0cm9rZSI6IHRydWUsCiAgIndlaWdodCI6IDMKfQogICAgICAgICAgICAgICAgICAgICkKICAgICAgICAgICAgICAgICAgICAuYWRkVG8obWFwXzQ0MmI2MWU2ZjE0NTQzNjhhM2NjYWU0OWNmN2VhYjM1KTsKICAgICAgICAgICAgCiAgICAKICAgICAgICAgICAgICAgIHZhciBwb2x5X2xpbmVfN2IwNDU1NzE0ZDUwNGU5ZmJjOWQ5NTRkOTUwNGRhMDEgPSBMLnBvbHlsaW5lKAogICAgICAgICAgICAgICAgICAgIFtbNDQuOTQ3MDcwOSwgLTkzLjA5NDA0NDVdLCBbNDQuOTQ2NDk0OCwgLTkzLjA5NTI0OTRdXSwKICAgICAgICAgICAgICAgICAgICB7CiAgImJ1YmJsaW5nTW91c2VFdmVudHMiOiB0cnVlLAogICJjb2xvciI6ICJncmVlbiIsCiAgImRhc2hBcnJheSI6IG51bGwsCiAgImRhc2hPZmZzZXQiOiBudWxsLAogICJmaWxsIjogZmFsc2UsCiAgImZpbGxDb2xvciI6ICJncmVlbiIsCiAgImZpbGxPcGFjaXR5IjogMC4yLAogICJmaWxsUnVsZSI6ICJldmVub2RkIiwKICAibGluZUNhcCI6ICJyb3VuZCIsCiAgImxpbmVKb2luIjogInJvdW5kIiwKICAibm9DbGlwIjogZmFsc2UsCiAgIm9wYWNpdHkiOiAxLAogICJzbW9vdGhGYWN0b3IiOiAxLjAsCiAgInN0cm9rZSI6IHRydWUsCiAgIndlaWdodCI6IDMKfQogICAgICAgICAgICAgICAgICAgICkKICAgICAgICAgICAgICAgICAgICAuYWRkVG8obWFwXzQ0MmI2MWU2ZjE0NTQzNjhhM2NjYWU0OWNmN2VhYjM1KTsKICAgICAgICAgICAgCiAgICAKICAgICAgICAgICAgICAgIHZhciBwb2x5X2xpbmVfMjUzZDZiYTAwYTMzNDdmNTg5NjM2MzEyNThmOTM3N2YgPSBMLnBvbHlsaW5lKAogICAgICAgICAgICAgICAgICAgIFtbNDQuOTU2OTY5MSwgLTkzLjA3MjU5NTddLCBbNDQuOTU3NzQwMiwgLTkzLjA3MDk5MV1dLAogICAgICAgICAgICAgICAgICAgIHsKICAiYnViYmxpbmdNb3VzZUV2ZW50cyI6IHRydWUsCiAgImNvbG9yIjogImdyZWVuIiwKICAiZGFzaEFycmF5IjogbnVsbCwKICAiZGFzaE9mZnNldCI6IG51bGwsCiAgImZpbGwiOiBmYWxzZSwKICAiZmlsbENvbG9yIjogImdyZWVuIiwKICAiZmlsbE9wYWNpdHkiOiAwLjIsCiAgImZpbGxSdWxlIjogImV2ZW5vZGQiLAogICJsaW5lQ2FwIjogInJvdW5kIiwKICAibGluZUpvaW4iOiAicm91bmQiLAogICJub0NsaXAiOiBmYWxzZSwKICAib3BhY2l0eSI6IDEsCiAgInNtb290aEZhY3RvciI6IDEuMCwKICAic3Ryb2tlIjogdHJ1ZSwKICAid2VpZ2h0IjogMwp9CiAgICAgICAgICAgICAgICAgICAgKQogICAgICAgICAgICAgICAgICAgIC5hZGRUbyhtYXBfNDQyYjYxZTZmMTQ1NDM2OGEzY2NhZTQ5Y2Y3ZWFiMzUpOwogICAgICAgICAgICAKICAgIAogICAgICAgICAgICAgICAgdmFyIHBvbHlfbGluZV85NTMxODg2MmU3ZGI0YzRkYjI5MGYwYWVhNjljYTU0OCA9IEwucG9seWxpbmUoCiAgICAgICAgICAgICAgICAgICAgW1s0NC45NTY5NjkxLCAtOTMuMDcyNTk1N10sIFs0NC45NTYyNzE2LCAtOTMuMDc0MDY5Ml1dLAogICAgICAgICAgICAgICAgICAgIHsKICAiYnViYmxpbmdNb3VzZUV2ZW50cyI6IHRydWUsCiAgImNvbG9yIjogImdyZWVuIiwKICAiZGFzaEFycmF5IjogbnVsbCwKICAiZGFzaE9mZnNldCI6IG51bGwsCiAgImZpbGwiOiBmYWxzZSwKICAiZmlsbENvbG9yIjogImdyZWVuIiwKICAiZmlsbE9wYWNpdHkiOiAwLjIsCiAgImZpbGxSdWxlIjogImV2ZW5vZGQiLAogICJsaW5lQ2FwIjogInJvdW5kIiwKICAibGluZUpvaW4iOiAicm91bmQiLAogICJub0NsaXAiOiBmYWxzZSwKICAib3BhY2l0eSI6IDEsCiAgInNtb290aEZhY3RvciI6IDEuMCwKICAic3Ryb2tlIjogdHJ1ZSwKICAid2VpZ2h0IjogMwp9CiAgICAgICAgICAgICAgICAgICAgKQogICAgICAgICAgICAgICAgICAgIC5hZGRUbyhtYXBfNDQyYjYxZTZmMTQ1NDM2OGEzY2NhZTQ5Y2Y3ZWFiMzUpOwogICAgICAgICAgICAKICAgIAogICAgICAgICAgICAgICAgdmFyIHBvbHlfbGluZV8wZGQ3ZGRkNmU2YzI0Zjg4ODI1ZmIzMWVlOWM4Y2E0ZCA9IEwucG9seWxpbmUoCiAgICAgICAgICAgICAgICAgICAgW1s0NC45NTkwODEsIC05My4wNjgxNjJdLCBbNDQuOTU5NjM5LCAtOTMuMDY3XV0sCiAgICAgICAgICAgICAgICAgICAgewogICJidWJibGluZ01vdXNlRXZlbnRzIjogdHJ1ZSwKICAiY29sb3IiOiAiZ3JlZW4iLAogICJkYXNoQXJyYXkiOiBudWxsLAogICJkYXNoT2Zmc2V0IjogbnVsbCwKICAiZmlsbCI6IGZhbHNlLAogICJmaWxsQ29sb3IiOiAiZ3JlZW4iLAogICJmaWxsT3BhY2l0eSI6IDAuMiwKICAiZmlsbFJ1bGUiOiAiZXZlbm9kZCIsCiAgImxpbmVDYXAiOiAicm91bmQiLAogICJsaW5lSm9pbiI6ICJyb3VuZCIsCiAgIm5vQ2xpcCI6IGZhbHNlLAogICJvcGFjaXR5IjogMSwKICAic21vb3RoRmFjdG9yIjogMS4wLAogICJzdHJva2UiOiB0cnVlLAogICJ3ZWlnaHQiOiAzCn0KICAgICAgICAgICAgICAgICAgICApCiAgICAgICAgICAgICAgICAgICAgLmFkZFRvKG1hcF80NDJiNjFlNmYxNDU0MzY4YTNjY2FlNDljZjdlYWIzNSk7CiAgICAgICAgICAgIAogICAgCiAgICAgICAgICAgICAgICB2YXIgcG9seV9saW5lXzBjZmU4MTM1ZDllODRjOTc4NjFkMDk4MjA0MTI1NGJiID0gTC5wb2x5bGluZSgKICAgICAgICAgICAgICAgICAgICBbWzQ0Ljk1OTA4MSwgLTkzLjA2ODE2Ml0sIFs0NC45NTg2MjU2LCAtOTMuMDY5MTM3OV1dLAogICAgICAgICAgICAgICAgICAgIHsKICAiYnViYmxpbmdNb3VzZUV2ZW50cyI6IHRydWUsCiAgImNvbG9yIjogImdyZWVuIiwKICAiZGFzaEFycmF5IjogbnVsbCwKICAiZGFzaE9mZnNldCI6IG51bGwsCiAgImZpbGwiOiBmYWxzZSwKICAiZmlsbENvbG9yIjogImdyZWVuIiwKICAiZmlsbE9wYWNpdHkiOiAwLjIsCiAgImZpbGxSdWxlIjogImV2ZW5vZGQiLAogICJsaW5lQ2FwIjogInJvdW5kIiwKICAibGluZUpvaW4iOiAicm91bmQiLAogICJub0NsaXAiOiBmYWxzZSwKICAib3BhY2l0eSI6IDEsCiAgInNtb290aEZhY3RvciI6IDEuMCwKICAic3Ryb2tlIjogdHJ1ZSwKICAid2VpZ2h0IjogMwp9CiAgICAgICAgICAgICAgICAgICAgKQogICAgICAgICAgICAgICAgICAgIC5hZGRUbyhtYXBfNDQyYjYxZTZmMTQ1NDM2OGEzY2NhZTQ5Y2Y3ZWFiMzUpOwogICAgICAgICAgICAKICAgIAogICAgICAgICAgICAgICAgdmFyIHBvbHlfbGluZV8yMzNkMWNhM2ExNWY0YjhmYjMyODc3Nzg1ZWUwMDZmMyA9IEwucG9seWxpbmUoCiAgICAgICAgICAgICAgICAgICAgW1s0NC45NTEwMDk1LCAtOTMuMDg2MDI1MV0sIFs0NC45NTA4MzA3LCAtOTMuMDg2MTY0NV1dLAogICAgICAgICAgICAgICAgICAgIHsKICAiYnViYmxpbmdNb3VzZUV2ZW50cyI6IHRydWUsCiAgImNvbG9yIjogImdyZWVuIiwKICAiZGFzaEFycmF5IjogbnVsbCwKICAiZGFzaE9mZnNldCI6IG51bGwsCiAgImZpbGwiOiBmYWxzZSwKICAiZmlsbENvbG9yIjogImdyZWVuIiwKICAiZmlsbE9wYWNpdHkiOiAwLjIsCiAgImZpbGxSdWxlIjogImV2ZW5vZGQiLAogICJsaW5lQ2FwIjogInJvdW5kIiwKICAibGluZUpvaW4iOiAicm91bmQiLAogICJub0NsaXAiOiBmYWxzZSwKICAib3BhY2l0eSI6IDEsCiAgInNtb290aEZhY3RvciI6IDEuMCwKICAic3Ryb2tlIjogdHJ1ZSwKICAid2VpZ2h0IjogMwp9CiAgICAgICAgICAgICAgICAgICAgKQogICAgICAgICAgICAgICAgICAgIC5hZGRUbyhtYXBfNDQyYjYxZTZmMTQ1NDM2OGEzY2NhZTQ5Y2Y3ZWFiMzUpOwogICAgICAgICAgICAKICAgIAogICAgICAgICAgICAgICAgdmFyIHBvbHlfbGluZV9mYjA3ZTQ1N2RkNGM0ZDFkYTg5YjgwNjZjNmFlYTAyYSA9IEwucG9seWxpbmUoCiAgICAgICAgICAgICAgICAgICAgW1s0NC45NTc3NDAyLCAtOTMuMDcwOTkxXSwgWzQ0Ljk1ODYyNTYsIC05My4wNjkxMzc5XV0sCiAgICAgICAgICAgICAgICAgICAgewogICJidWJibGluZ01vdXNlRXZlbnRzIjogdHJ1ZSwKICAiY29sb3IiOiAiZ3JlZW4iLAogICJkYXNoQXJyYXkiOiBudWxsLAogICJkYXNoT2Zmc2V0IjogbnVsbCwKICAiZmlsbCI6IGZhbHNlLAogICJmaWxsQ29sb3IiOiAiZ3JlZW4iLAogICJmaWxsT3BhY2l0eSI6IDAuMiwKICAiZmlsbFJ1bGUiOiAiZXZlbm9kZCIsCiAgImxpbmVDYXAiOiAicm91bmQiLAogICJsaW5lSm9pbiI6ICJyb3VuZCIsCiAgIm5vQ2xpcCI6IGZhbHNlLAogICJvcGFjaXR5IjogMSwKICAic21vb3RoRmFjdG9yIjogMS4wLAogICJzdHJva2UiOiB0cnVlLAogICJ3ZWlnaHQiOiAzCn0KICAgICAgICAgICAgICAgICAgICApCiAgICAgICAgICAgICAgICAgICAgLmFkZFRvKG1hcF80NDJiNjFlNmYxNDU0MzY4YTNjY2FlNDljZjdlYWIzNSk7CiAgICAgICAgICAgIAogICAgCiAgICAgICAgICAgICAgICB2YXIgcG9seV9saW5lXzlmN2I4N2IxMmE4YzRiYThiODBkZTUxOTRjMTllOTJmID0gTC5wb2x5bGluZSgKICAgICAgICAgICAgICAgICAgICBbWzQ0Ljk1Nzc0MDIsIC05My4wNzA5OTFdLCBbNDQuOTU2OTY5MSwgLTkzLjA3MjU5NTddXSwKICAgICAgICAgICAgICAgICAgICB7CiAgImJ1YmJsaW5nTW91c2VFdmVudHMiOiB0cnVlLAogICJjb2xvciI6ICJncmVlbiIsCiAgImRhc2hBcnJheSI6IG51bGwsCiAgImRhc2hPZmZzZXQiOiBudWxsLAogICJmaWxsIjogZmFsc2UsCiAgImZpbGxDb2xvciI6ICJncmVlbiIsCiAgImZpbGxPcGFjaXR5IjogMC4yLAogICJmaWxsUnVsZSI6ICJldmVub2RkIiwKICAibGluZUNhcCI6ICJyb3VuZCIsCiAgImxpbmVKb2luIjogInJvdW5kIiwKICAibm9DbGlwIjogZmFsc2UsCiAgIm9wYWNpdHkiOiAxLAogICJzbW9vdGhGYWN0b3IiOiAxLjAsCiAgInN0cm9rZSI6IHRydWUsCiAgIndlaWdodCI6IDMKfQogICAgICAgICAgICAgICAgICAgICkKICAgICAgICAgICAgICAgICAgICAuYWRkVG8obWFwXzQ0MmI2MWU2ZjE0NTQzNjhhM2NjYWU0OWNmN2VhYjM1KTsKICAgICAgICAgICAgCiAgICAKICAgICAgICAgICAgICAgIHZhciBwb2x5X2xpbmVfNjk1ODMxNjkzNWE2NDU0YTgyYTQzMjYyMmNlOTcwZTAgPSBMLnBvbHlsaW5lKAogICAgICAgICAgICAgICAgICAgIFtbNDQuOTU4NjI1NiwgLTkzLjA2OTEzNzldLCBbNDQuOTU3NzQwMiwgLTkzLjA3MDk5MV1dLAogICAgICAgICAgICAgICAgICAgIHsKICAiYnViYmxpbmdNb3VzZUV2ZW50cyI6IHRydWUsCiAgImNvbG9yIjogImdyZWVuIiwKICAiZGFzaEFycmF5IjogbnVsbCwKICAiZGFzaE9mZnNldCI6IG51bGwsCiAgImZpbGwiOiBmYWxzZSwKICAiZmlsbENvbG9yIjogImdyZWVuIiwKICAiZmlsbE9wYWNpdHkiOiAwLjIsCiAgImZpbGxSdWxlIjogImV2ZW5vZGQiLAogICJsaW5lQ2FwIjogInJvdW5kIiwKICAibGluZUpvaW4iOiAicm91bmQiLAogICJub0NsaXAiOiBmYWxzZSwKICAib3BhY2l0eSI6IDEsCiAgInNtb290aEZhY3RvciI6IDEuMCwKICAic3Ryb2tlIjogdHJ1ZSwKICAid2VpZ2h0IjogMwp9CiAgICAgICAgICAgICAgICAgICAgKQogICAgICAgICAgICAgICAgICAgIC5hZGRUbyhtYXBfNDQyYjYxZTZmMTQ1NDM2OGEzY2NhZTQ5Y2Y3ZWFiMzUpOwogICAgICAgICAgICAKICAgIAogICAgICAgICAgICAgICAgdmFyIHBvbHlfbGluZV8zODU0YTIzOWIyNDA0NzAyOTE1MDMzMjM5ZGE4MzJkOSA9IEwucG9seWxpbmUoCiAgICAgICAgICAgICAgICAgICAgW1s0NC45NTg2MjU2LCAtOTMuMDY5MTM3OV0sIFs0NC45NTkwODEsIC05My4wNjgxNjJdXSwKICAgICAgICAgICAgICAgICAgICB7CiAgImJ1YmJsaW5nTW91c2VFdmVudHMiOiB0cnVlLAogICJjb2xvciI6ICJncmVlbiIsCiAgImRhc2hBcnJheSI6IG51bGwsCiAgImRhc2hPZmZzZXQiOiBudWxsLAogICJmaWxsIjogZmFsc2UsCiAgImZpbGxDb2xvciI6ICJncmVlbiIsCiAgImZpbGxPcGFjaXR5IjogMC4yLAogICJmaWxsUnVsZSI6ICJldmVub2RkIiwKICAibGluZUNhcCI6ICJyb3VuZCIsCiAgImxpbmVKb2luIjogInJvdW5kIiwKICAibm9DbGlwIjogZmFsc2UsCiAgIm9wYWNpdHkiOiAxLAogICJzbW9vdGhGYWN0b3IiOiAxLjAsCiAgInN0cm9rZSI6IHRydWUsCiAgIndlaWdodCI6IDMKfQogICAgICAgICAgICAgICAgICAgICkKICAgICAgICAgICAgICAgICAgICAuYWRkVG8obWFwXzQ0MmI2MWU2ZjE0NTQzNjhhM2NjYWU0OWNmN2VhYjM1KTsKICAgICAgICAgICAgCiAgICAKICAgICAgICAgICAgICAgIHZhciBwb2x5X2xpbmVfNGQ5ZmU2ZjZhMjYzNDI0ZGIxODlhMjYzNjE5OTVhMzcgPSBMLnBvbHlsaW5lKAogICAgICAgICAgICAgICAgICAgIFtbNDQuOTU5NjM5LCAtOTMuMDY3XSwgWzQ0Ljk2MDA4MDEsIC05My4wNjYwNjczXV0sCiAgICAgICAgICAgICAgICAgICAgewogICJidWJibGluZ01vdXNlRXZlbnRzIjogdHJ1ZSwKICAiY29sb3IiOiAiZ3JlZW4iLAogICJkYXNoQXJyYXkiOiBudWxsLAogICJkYXNoT2Zmc2V0IjogbnVsbCwKICAiZmlsbCI6IGZhbHNlLAogICJmaWxsQ29sb3IiOiAiZ3JlZW4iLAogICJmaWxsT3BhY2l0eSI6IDAuMiwKICAiZmlsbFJ1bGUiOiAiZXZlbm9kZCIsCiAgImxpbmVDYXAiOiAicm91bmQiLAogICJsaW5lSm9pbiI6ICJyb3VuZCIsCiAgIm5vQ2xpcCI6IGZhbHNlLAogICJvcGFjaXR5IjogMSwKICAic21vb3RoRmFjdG9yIjogMS4wLAogICJzdHJva2UiOiB0cnVlLAogICJ3ZWlnaHQiOiAzCn0KICAgICAgICAgICAgICAgICAgICApCiAgICAgICAgICAgICAgICAgICAgLmFkZFRvKG1hcF80NDJiNjFlNmYxNDU0MzY4YTNjY2FlNDljZjdlYWIzNSk7CiAgICAgICAgICAgIAogICAgCiAgICAgICAgICAgICAgICB2YXIgcG9seV9saW5lXzA5YWQ1ZmM1MmNiNjQ4ZjQ5YjA5NDNmMmU1NzM1Mjc3ID0gTC5wb2x5bGluZSgKICAgICAgICAgICAgICAgICAgICBbWzQ0Ljk1OTYzOSwgLTkzLjA2N10sIFs0NC45NTkwODEsIC05My4wNjgxNjJdXSwKICAgICAgICAgICAgICAgICAgICB7CiAgImJ1YmJsaW5nTW91c2VFdmVudHMiOiB0cnVlLAogICJjb2xvciI6ICJncmVlbiIsCiAgImRhc2hBcnJheSI6IG51bGwsCiAgImRhc2hPZmZzZXQiOiBudWxsLAogICJmaWxsIjogZmFsc2UsCiAgImZpbGxDb2xvciI6ICJncmVlbiIsCiAgImZpbGxPcGFjaXR5IjogMC4yLAogICJmaWxsUnVsZSI6ICJldmVub2RkIiwKICAibGluZUNhcCI6ICJyb3VuZCIsCiAgImxpbmVKb2luIjogInJvdW5kIiwKICAibm9DbGlwIjogZmFsc2UsCiAgIm9wYWNpdHkiOiAxLAogICJzbW9vdGhGYWN0b3IiOiAxLjAsCiAgInN0cm9rZSI6IHRydWUsCiAgIndlaWdodCI6IDMKfQogICAgICAgICAgICAgICAgICAgICkKICAgICAgICAgICAgICAgICAgICAuYWRkVG8obWFwXzQ0MmI2MWU2ZjE0NTQzNjhhM2NjYWU0OWNmN2VhYjM1KTsKICAgICAgICAgICAgCiAgICAKICAgICAgICAgICAgICAgIHZhciBwb2x5X2xpbmVfZWMxODU1MDU2YTMxNDM2YmE3MWVkN2IwYWFlN2M5YzkgPSBMLnBvbHlsaW5lKAogICAgICAgICAgICAgICAgICAgIFtbNDQuOTYwMzQ5LCAtOTMuMDYzNTIzXSwgWzQ0Ljk2MDM0NjksIC05My4wNjU1NDc4XV0sCiAgICAgICAgICAgICAgICAgICAgewogICJidWJibGluZ01vdXNlRXZlbnRzIjogdHJ1ZSwKICAiY29sb3IiOiAiZ3JlZW4iLAogICJkYXNoQXJyYXkiOiBudWxsLAogICJkYXNoT2Zmc2V0IjogbnVsbCwKICAiZmlsbCI6IGZhbHNlLAogICJmaWxsQ29sb3IiOiAiZ3JlZW4iLAogICJmaWxsT3BhY2l0eSI6IDAuMiwKICAiZmlsbFJ1bGUiOiAiZXZlbm9kZCIsCiAgImxpbmVDYXAiOiAicm91bmQiLAogICJsaW5lSm9pbiI6ICJyb3VuZCIsCiAgIm5vQ2xpcCI6IGZhbHNlLAogICJvcGFjaXR5IjogMSwKICAic21vb3RoRmFjdG9yIjogMS4wLAogICJzdHJva2UiOiB0cnVlLAogICJ3ZWlnaHQiOiAzCn0KICAgICAgICAgICAgICAgICAgICApCiAgICAgICAgICAgICAgICAgICAgLmFkZFRvKG1hcF80NDJiNjFlNmYxNDU0MzY4YTNjY2FlNDljZjdlYWIzNSk7CiAgICAgICAgICAgIAogICAgCiAgICAgICAgICAgICAgICB2YXIgcG9seV9saW5lX2FlZDBmNmY1NTc4OTQ0NmY5NTM4M2Y3MmZiNTM3NWRjID0gTC5wb2x5bGluZSgKICAgICAgICAgICAgICAgICAgICBbWzQ0Ljk1MDgzMDcsIC05My4wODYxNjQ1XSwgWzQ0Ljk1MDYxNzEsIC05My4wODY2MDI1XV0sCiAgICAgICAgICAgICAgICAgICAgewogICJidWJibGluZ01vdXNlRXZlbnRzIjogdHJ1ZSwKICAiY29sb3IiOiAiZ3JlZW4iLAogICJkYXNoQXJyYXkiOiBudWxsLAogICJkYXNoT2Zmc2V0IjogbnVsbCwKICAiZmlsbCI6IGZhbHNlLAogICJmaWxsQ29sb3IiOiAiZ3JlZW4iLAogICJmaWxsT3BhY2l0eSI6IDAuMiwKICAiZmlsbFJ1bGUiOiAiZXZlbm9kZCIsCiAgImxpbmVDYXAiOiAicm91bmQiLAogICJsaW5lSm9pbiI6ICJyb3VuZCIsCiAgIm5vQ2xpcCI6IGZhbHNlLAogICJvcGFjaXR5IjogMSwKICAic21vb3RoRmFjdG9yIjogMS4wLAogICJzdHJva2UiOiB0cnVlLAogICJ3ZWlnaHQiOiAzCn0KICAgICAgICAgICAgICAgICAgICApCiAgICAgICAgICAgICAgICAgICAgLmFkZFRvKG1hcF80NDJiNjFlNmYxNDU0MzY4YTNjY2FlNDljZjdlYWIzNSk7CiAgICAgICAgICAgIAogICAgCiAgICAgICAgICAgICAgICB2YXIgcG9seV9saW5lXzgwYjIyMzJkMzliZjQ1Y2E4ZThmOTBlMGE4MDllNTAwID0gTC5wb2x5bGluZSgKICAgICAgICAgICAgICAgICAgICBbWzQ0Ljk0NjM5MzYsIC05My4xMDAzNTc0XSwgWzQ0Ljk0NjQyNzYsIC05My4xMDA2ODE2XV0sCiAgICAgICAgICAgICAgICAgICAgewogICJidWJibGluZ01vdXNlRXZlbnRzIjogdHJ1ZSwKICAiY29sb3IiOiAiZ3JlZW4iLAogICJkYXNoQXJyYXkiOiBudWxsLAogICJkYXNoT2Zmc2V0IjogbnVsbCwKICAiZmlsbCI6IGZhbHNlLAogICJmaWxsQ29sb3IiOiAiZ3JlZW4iLAogICJmaWxsT3BhY2l0eSI6IDAuMiwKICAiZmlsbFJ1bGUiOiAiZXZlbm9kZCIsCiAgImxpbmVDYXAiOiAicm91bmQiLAogICJsaW5lSm9pbiI6ICJyb3VuZCIsCiAgIm5vQ2xpcCI6IGZhbHNlLAogICJvcGFjaXR5IjogMSwKICAic21vb3RoRmFjdG9yIjogMS4wLAogICJzdHJva2UiOiB0cnVlLAogICJ3ZWlnaHQiOiAzCn0KICAgICAgICAgICAgICAgICAgICApCiAgICAgICAgICAgICAgICAgICAgLmFkZFRvKG1hcF80NDJiNjFlNmYxNDU0MzY4YTNjY2FlNDljZjdlYWIzNSk7CiAgICAgICAgICAgIAogICAgCiAgICAgICAgICAgICAgICB2YXIgcG9seV9saW5lXzNlNGE1ZGJkNWIxOTQyYWRiZTcxZDE5MDdjY2FmMjU5ID0gTC5wb2x5bGluZSgKICAgICAgICAgICAgICAgICAgICBbWzQ0Ljk0NjMyODQsIC05My4wOTk2NDU3XSwgWzQ0Ljk0NjM5MzYsIC05My4xMDAzNTc0XV0sCiAgICAgICAgICAgICAgICAgICAgewogICJidWJibGluZ01vdXNlRXZlbnRzIjogdHJ1ZSwKICAiY29sb3IiOiAiZ3JlZW4iLAogICJkYXNoQXJyYXkiOiBudWxsLAogICJkYXNoT2Zmc2V0IjogbnVsbCwKICAiZmlsbCI6IGZhbHNlLAogICJmaWxsQ29sb3IiOiAiZ3JlZW4iLAogICJmaWxsT3BhY2l0eSI6IDAuMiwKICAiZmlsbFJ1bGUiOiAiZXZlbm9kZCIsCiAgImxpbmVDYXAiOiAicm91bmQiLAogICJsaW5lSm9pbiI6ICJyb3VuZCIsCiAgIm5vQ2xpcCI6IGZhbHNlLAogICJvcGFjaXR5IjogMSwKICAic21vb3RoRmFjdG9yIjogMS4wLAogICJzdHJva2UiOiB0cnVlLAogICJ3ZWlnaHQiOiAzCn0KICAgICAgICAgICAgICAgICAgICApCiAgICAgICAgICAgICAgICAgICAgLmFkZFRvKG1hcF80NDJiNjFlNmYxNDU0MzY4YTNjY2FlNDljZjdlYWIzNSk7CiAgICAgICAgICAgIAogICAgCiAgICAgICAgICAgICAgICAKCiAgICAgICAgICAgICAgICBtYXBfNDQyYjYxZTZmMTQ1NDM2OGEzY2NhZTQ5Y2Y3ZWFiMzUuZml0Qm91bmRzKAogICAgICAgICAgICAgICAgICAgIFtbNDQuOTQ2MDI2NywgLTkzLjEwMjMzMzJdLCBbNDQuOTYwMzcwOSwgLTkzLjA2MzUyM11dLAogICAgICAgICAgICAgICAgICAgIHt9CiAgICAgICAgICAgICAgICAgICAgKTsKICAgICAgICAgICAgCiAgICAKICAgICAgICB2YXIgbWFya2VyXzAzODYyYzU1NzMxMjRjZTg4NGI4YmYwOTg4ZDU1NGEyID0gTC5tYXJrZXIoCiAgICAgICAgICAgIFs0NC45NDgyMjgzOTk5OTk5OSwgLTkzLjA5MTYzNF0sCiAgICAgICAgICAgIHsKICAgICAgICAgICAgICAgIGljb246IG5ldyBMLkljb24uRGVmYXVsdCgpLAogICAgICAgICAgICAgICAgfQogICAgICAgICAgICApLmFkZFRvKG1hcF80NDJiNjFlNmYxNDU0MzY4YTNjY2FlNDljZjdlYWIzNSk7CiAgICAgICAgCiAgICAKCiAgICAgICAgICAgICAgICB2YXIgaWNvbl82NjkzMzA3NjE3MDc0NGE5ODVhZmZhMDRhMTUwN2M0NSA9IEwuQXdlc29tZU1hcmtlcnMuaWNvbih7CiAgICAgICAgICAgICAgICAgICAgaWNvbjogJ2luZm8tc2lnbicsCiAgICAgICAgICAgICAgICAgICAgaWNvbkNvbG9yOiAnd2hpdGUnLAogICAgICAgICAgICAgICAgICAgIG1hcmtlckNvbG9yOiAnYmx1ZScsCiAgICAgICAgICAgICAgICAgICAgcHJlZml4OiAnZ2x5cGhpY29uJywKICAgICAgICAgICAgICAgICAgICBleHRyYUNsYXNzZXM6ICdmYS1yb3RhdGUtMCcKICAgICAgICAgICAgICAgICAgICB9KTsKICAgICAgICAgICAgICAgIG1hcmtlcl8wMzg2MmM1NTczMTI0Y2U4ODRiOGJmMDk4OGQ1NTRhMi5zZXRJY29uKGljb25fNjY5MzMwNzYxNzA3NDRhOTg1YWZmYTA0YTE1MDdjNDUpOwogICAgICAgICAgICAKICAgIAogICAgICAgIG1hcmtlcl8wMzg2MmM1NTczMTI0Y2U4ODRiOGJmMDk4OGQ1NTRhMi5iaW5kVG9vbHRpcCgKICAgICAgICAgICAgYDxkaXY+YAogICAgICAgICAgICArIGBBIE5vZGVgICsgYDwvZGl2PmAsCiAgICAgICAgICAgIHsic3RpY2t5IjogdHJ1ZX0KICAgICAgICApOwogICAgICAgIAogICAgCiAgICAgICAgdmFyIG1hcmtlcl8xYWU5MTliYWM1NWM0NjFhOGFkYmRiMTNiNjNhNTNhNyA9IEwubWFya2VyKAogICAgICAgICAgICBbNDQuOTQ2NDk0Nzk5OTk5OTk2LCAtOTMuMDk1MjQ5NF0sCiAgICAgICAgICAgIHsKICAgICAgICAgICAgICAgIGljb246IG5ldyBMLkljb24uRGVmYXVsdCgpLAogICAgICAgICAgICAgICAgfQogICAgICAgICAgICApLmFkZFRvKG1hcF80NDJiNjFlNmYxNDU0MzY4YTNjY2FlNDljZjdlYWIzNSk7CiAgICAgICAgCiAgICAKCiAgICAgICAgICAgICAgICB2YXIgaWNvbl8wMTQwYmNlZjI4NjU0YzhhYTc1OWI5ZjcwMjljMmRjMyA9IEwuQXdlc29tZU1hcmtlcnMuaWNvbih7CiAgICAgICAgICAgICAgICAgICAgaWNvbjogJ2luZm8tc2lnbicsCiAgICAgICAgICAgICAgICAgICAgaWNvbkNvbG9yOiAnd2hpdGUnLAogICAgICAgICAgICAgICAgICAgIG1hcmtlckNvbG9yOiAnYmx1ZScsCiAgICAgICAgICAgICAgICAgICAgcHJlZml4OiAnZ2x5cGhpY29uJywKICAgICAgICAgICAgICAgICAgICBleHRyYUNsYXNzZXM6ICdmYS1yb3RhdGUtMCcKICAgICAgICAgICAgICAgICAgICB9KTsKICAgICAgICAgICAgICAgIG1hcmtlcl8xYWU5MTliYWM1NWM0NjFhOGFkYmRiMTNiNjNhNTNhNy5zZXRJY29uKGljb25fMDE0MGJjZWYyODY1NGM4YWE3NTliOWY3MDI5YzJkYzMpOwogICAgICAgICAgICAKICAgIAogICAgICAgIG1hcmtlcl8xYWU5MTliYWM1NWM0NjFhOGFkYmRiMTNiNjNhNTNhNy5iaW5kVG9vbHRpcCgKICAgICAgICAgICAgYDxkaXY+YAogICAgICAgICAgICArIGBCIE5vZGVgICsgYDwvZGl2PmAsCiAgICAgICAgICAgIHsic3RpY2t5IjogdHJ1ZX0KICAgICAgICApOwogICAgICAgIAo8L3NjcmlwdD4=\" style=\"position:absolute;width:100%;height:100%;left:0;top:0;border:none !important;\" allowfullscreen webkitallowfullscreen mozallowfullscreen></iframe></div></div>"
      ],
      "text/plain": [
       "<folium.folium.Map at 0xa234b26a0>"
      ]
     },
     "execution_count": 90,
     "metadata": {},
     "output_type": "execute_result"
    }
   ],
   "source": [
    "G = ox.gdfs_to_graph(graph_nodes, candidate_links)\n",
    "#ox.plot_graph(G, fig_height=16, fig_width=16)\n",
    "\n",
    "#renders for candidate graph but takes forever for entire network\n",
    "m = ox.plot_graph_folium(G, edge_color = 'green', edge_width = 3)\n",
    "folium.Marker(location=[graph_nodes.loc[A_id]['y'], graph_nodes.loc[A_id]['x']], icon=folium.Icon(color='blue'), tooltip='A Node').add_to(m)\n",
    "folium.Marker(location=[graph_nodes.loc[B_id]['y'], graph_nodes.loc[B_id]['x']], icon=folium.Icon(color='blue'), tooltip='B Node').add_to(m)\n",
    "m"
   ]
  },
  {
   "cell_type": "code",
   "execution_count": 84,
   "metadata": {},
   "outputs": [],
   "source": [
    "sp_route = nx.shortest_path(G, A_id, B_id, weight = 'weight')"
   ]
  },
  {
   "cell_type": "code",
   "execution_count": 85,
   "metadata": {},
   "outputs": [
    {
     "data": {
      "text/plain": [
       "['187899923', '187858777', '187923585', '187865924']"
      ]
     },
     "execution_count": 85,
     "metadata": {},
     "output_type": "execute_result"
    }
   ],
   "source": [
    "sp_route"
   ]
  },
  {
   "cell_type": "code",
   "execution_count": 21,
   "metadata": {},
   "outputs": [
    {
     "data": {
      "text/html": [
       "<div style=\"width:100%;\"><div style=\"position:relative;width:100%;height:0;padding-bottom:60%;\"><iframe src=\"data:text/html;charset=utf-8;base64,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\" style=\"position:absolute;width:100%;height:100%;left:0;top:0;border:none !important;\" allowfullscreen webkitallowfullscreen mozallowfullscreen></iframe></div></div>"
      ],
      "text/plain": [
       "<folium.folium.Map at 0xa249f47b8>"
      ]
     },
     "execution_count": 21,
     "metadata": {},
     "output_type": "execute_result"
    }
   ],
   "source": [
    "#ox.plot_graph_route(G, sp_route, fig_height=20, fig_width=20)\n",
    "r = ox.plot_route_folium(G, sp_route)\n",
    "folium.Marker(location=[graph_nodes.loc[A_id]['y'], graph_nodes.loc[A_id]['x']], icon=folium.Icon(color='blue'), tooltip='A Node').add_to(r)\n",
    "folium.Marker(location=[graph_nodes.loc[B_id]['y'], graph_nodes.loc[B_id]['x']], icon=folium.Icon(color='blue'), tooltip='B Node').add_to(r)\n",
    "r"
   ]
  },
  {
   "cell_type": "code",
   "execution_count": 22,
   "metadata": {},
   "outputs": [],
   "source": [
    "#sp_links = candidate_links[candidate_links['u'].isin(sp_route) & candidate_links['v'].isin(sp_route)]\n",
    "sp_links = graph_edges[graph_edges['u'].isin(sp_route) & graph_edges['v'].isin(sp_route)]"
   ]
  },
  {
   "cell_type": "code",
   "execution_count": 23,
   "metadata": {},
   "outputs": [
    {
     "data": {
      "text/html": [
       "<div>\n",
       "<style scoped>\n",
       "    .dataframe tbody tr th:only-of-type {\n",
       "        vertical-align: middle;\n",
       "    }\n",
       "\n",
       "    .dataframe tbody tr th {\n",
       "        vertical-align: top;\n",
       "    }\n",
       "\n",
       "    .dataframe thead th {\n",
       "        text-align: right;\n",
       "    }\n",
       "</style>\n",
       "<table border=\"1\" class=\"dataframe\">\n",
       "  <thead>\n",
       "    <tr style=\"text-align: right;\">\n",
       "      <th></th>\n",
       "      <th>lanes</th>\n",
       "      <th>link_id</th>\n",
       "      <th>osmlanes</th>\n",
       "      <th>access</th>\n",
       "      <th>area</th>\n",
       "      <th>bridge</th>\n",
       "      <th>geometryid</th>\n",
       "      <th>highway</th>\n",
       "      <th>id</th>\n",
       "      <th>isbikelink</th>\n",
       "      <th>isdrivelink</th>\n",
       "      <th>istranlink</th>\n",
       "      <th>iswalklink</th>\n",
       "      <th>junction</th>\n",
       "      <th>key</th>\n",
       "      <th>length</th>\n",
       "      <th>locationreferences</th>\n",
       "      <th>maxspeed</th>\n",
       "      <th>name</th>\n",
       "      <th>oneway</th>\n",
       "      <th>osmid</th>\n",
       "      <th>ref</th>\n",
       "      <th>service</th>\n",
       "      <th>tunnel</th>\n",
       "      <th>u</th>\n",
       "      <th>v</th>\n",
       "      <th>width</th>\n",
       "      <th>geometry</th>\n",
       "      <th>weight</th>\n",
       "    </tr>\n",
       "  </thead>\n",
       "  <tbody>\n",
       "    <tr>\n",
       "      <th>1125</th>\n",
       "      <td>1</td>\n",
       "      <td>85208</td>\n",
       "      <td>0.0</td>\n",
       "      <td></td>\n",
       "      <td></td>\n",
       "      <td></td>\n",
       "      <td>f40c90c87447dca8c1d89b35e2175778</td>\n",
       "      <td>tertiary</td>\n",
       "      <td>f89fec3332dd503f754dc5adde048fa3</td>\n",
       "      <td>0</td>\n",
       "      <td>1</td>\n",
       "      <td>0</td>\n",
       "      <td>0</td>\n",
       "      <td></td>\n",
       "      <td>0.0</td>\n",
       "      <td>111.992</td>\n",
       "      <td>[{'sequence': 1, 'point': [-93.0928707, 44.947...</td>\n",
       "      <td></td>\n",
       "      <td>East 6th Street</td>\n",
       "      <td>True</td>\n",
       "      <td>223371528</td>\n",
       "      <td></td>\n",
       "      <td></td>\n",
       "      <td></td>\n",
       "      <td>187858777</td>\n",
       "      <td>187923585</td>\n",
       "      <td></td>\n",
       "      <td>LINESTRING (-93.09287070000001 44.9476402, -93...</td>\n",
       "      <td>1</td>\n",
       "    </tr>\n",
       "    <tr>\n",
       "      <th>4498</th>\n",
       "      <td>1</td>\n",
       "      <td>134574</td>\n",
       "      <td>0.0</td>\n",
       "      <td></td>\n",
       "      <td></td>\n",
       "      <td></td>\n",
       "      <td>878abbf556627618b2f1c8e3ab45f04d</td>\n",
       "      <td>tertiary</td>\n",
       "      <td>d6b3b088666d86081ff7e64399cfc34f</td>\n",
       "      <td>0</td>\n",
       "      <td>1</td>\n",
       "      <td>0</td>\n",
       "      <td>0</td>\n",
       "      <td></td>\n",
       "      <td>0.0</td>\n",
       "      <td>117.292</td>\n",
       "      <td>[{'sequence': 1, 'point': [-93.091634, 44.9482...</td>\n",
       "      <td></td>\n",
       "      <td>East 6th Street</td>\n",
       "      <td>True</td>\n",
       "      <td>223371529</td>\n",
       "      <td></td>\n",
       "      <td></td>\n",
       "      <td></td>\n",
       "      <td>187899923</td>\n",
       "      <td>187858777</td>\n",
       "      <td></td>\n",
       "      <td>LINESTRING (-93.091634 44.9482284, -93.0928707...</td>\n",
       "      <td>1</td>\n",
       "    </tr>\n",
       "    <tr>\n",
       "      <th>5570</th>\n",
       "      <td>1</td>\n",
       "      <td>154035</td>\n",
       "      <td>0.0</td>\n",
       "      <td></td>\n",
       "      <td></td>\n",
       "      <td></td>\n",
       "      <td>1e802737854e3202753c8641086352d8</td>\n",
       "      <td>tertiary</td>\n",
       "      <td>23f4bf6121c4220c46c530eb95664cb4</td>\n",
       "      <td>1</td>\n",
       "      <td>1</td>\n",
       "      <td>0</td>\n",
       "      <td>0</td>\n",
       "      <td></td>\n",
       "      <td>0.0</td>\n",
       "      <td>114.436</td>\n",
       "      <td>[{'sequence': 1, 'point': [-93.0940445, 44.947...</td>\n",
       "      <td></td>\n",
       "      <td>East 6th Street</td>\n",
       "      <td>True</td>\n",
       "      <td>637912019</td>\n",
       "      <td></td>\n",
       "      <td></td>\n",
       "      <td></td>\n",
       "      <td>187923585</td>\n",
       "      <td>187865924</td>\n",
       "      <td></td>\n",
       "      <td>LINESTRING (-93.0940445 44.9470709, -93.095249...</td>\n",
       "      <td>1</td>\n",
       "    </tr>\n",
       "  </tbody>\n",
       "</table>\n",
       "</div>"
      ],
      "text/plain": [
       "      lanes  link_id  osmlanes access area bridge  \\\n",
       "1125      1    85208       0.0                      \n",
       "4498      1   134574       0.0                      \n",
       "5570      1   154035       0.0                      \n",
       "\n",
       "                            geometryid   highway  \\\n",
       "1125  f40c90c87447dca8c1d89b35e2175778  tertiary   \n",
       "4498  878abbf556627618b2f1c8e3ab45f04d  tertiary   \n",
       "5570  1e802737854e3202753c8641086352d8  tertiary   \n",
       "\n",
       "                                    id  isbikelink  isdrivelink  istranlink  \\\n",
       "1125  f89fec3332dd503f754dc5adde048fa3           0            1           0   \n",
       "4498  d6b3b088666d86081ff7e64399cfc34f           0            1           0   \n",
       "5570  23f4bf6121c4220c46c530eb95664cb4           1            1           0   \n",
       "\n",
       "      iswalklink junction  key   length  \\\n",
       "1125           0           0.0  111.992   \n",
       "4498           0           0.0  117.292   \n",
       "5570           0           0.0  114.436   \n",
       "\n",
       "                                     locationreferences maxspeed  \\\n",
       "1125  [{'sequence': 1, 'point': [-93.0928707, 44.947...            \n",
       "4498  [{'sequence': 1, 'point': [-93.091634, 44.9482...            \n",
       "5570  [{'sequence': 1, 'point': [-93.0940445, 44.947...            \n",
       "\n",
       "                 name oneway      osmid ref service tunnel          u  \\\n",
       "1125  East 6th Street   True  223371528                     187858777   \n",
       "4498  East 6th Street   True  223371529                     187899923   \n",
       "5570  East 6th Street   True  637912019                     187923585   \n",
       "\n",
       "              v width                                           geometry  \\\n",
       "1125  187923585        LINESTRING (-93.09287070000001 44.9476402, -93...   \n",
       "4498  187858777        LINESTRING (-93.091634 44.9482284, -93.0928707...   \n",
       "5570  187865924        LINESTRING (-93.0940445 44.9470709, -93.095249...   \n",
       "\n",
       "      weight  \n",
       "1125       1  \n",
       "4498       1  \n",
       "5570       1  "
      ]
     },
     "execution_count": 23,
     "metadata": {},
     "output_type": "execute_result"
    }
   ],
   "source": [
    "sp_links"
   ]
  },
  {
   "cell_type": "code",
   "execution_count": 24,
   "metadata": {},
   "outputs": [
    {
     "data": {
      "text/html": [
       "<div>\n",
       "<style scoped>\n",
       "    .dataframe tbody tr th:only-of-type {\n",
       "        vertical-align: middle;\n",
       "    }\n",
       "\n",
       "    .dataframe tbody tr th {\n",
       "        vertical-align: top;\n",
       "    }\n",
       "\n",
       "    .dataframe thead th {\n",
       "        text-align: right;\n",
       "    }\n",
       "</style>\n",
       "<table border=\"1\" class=\"dataframe\">\n",
       "  <thead>\n",
       "    <tr style=\"text-align: right;\">\n",
       "      <th></th>\n",
       "      <th>lanes</th>\n",
       "      <th>link_id</th>\n",
       "      <th>osmlanes</th>\n",
       "      <th>access</th>\n",
       "      <th>area</th>\n",
       "      <th>bridge</th>\n",
       "      <th>geometryid</th>\n",
       "      <th>highway</th>\n",
       "      <th>id</th>\n",
       "      <th>isbikelink</th>\n",
       "      <th>isdrivelink</th>\n",
       "      <th>istranlink</th>\n",
       "      <th>iswalklink</th>\n",
       "      <th>junction</th>\n",
       "      <th>key</th>\n",
       "      <th>length</th>\n",
       "      <th>locationreferences</th>\n",
       "      <th>maxspeed</th>\n",
       "      <th>name</th>\n",
       "      <th>oneway</th>\n",
       "      <th>osmid</th>\n",
       "      <th>ref</th>\n",
       "      <th>service</th>\n",
       "      <th>tunnel</th>\n",
       "      <th>u</th>\n",
       "      <th>v</th>\n",
       "      <th>width</th>\n",
       "      <th>geometry</th>\n",
       "      <th>weight</th>\n",
       "    </tr>\n",
       "  </thead>\n",
       "  <tbody>\n",
       "    <tr>\n",
       "      <th>1125</th>\n",
       "      <td>1</td>\n",
       "      <td>85208</td>\n",
       "      <td>0.0</td>\n",
       "      <td></td>\n",
       "      <td></td>\n",
       "      <td></td>\n",
       "      <td>f40c90c87447dca8c1d89b35e2175778</td>\n",
       "      <td>tertiary</td>\n",
       "      <td>f89fec3332dd503f754dc5adde048fa3</td>\n",
       "      <td>0</td>\n",
       "      <td>1</td>\n",
       "      <td>0</td>\n",
       "      <td>0</td>\n",
       "      <td></td>\n",
       "      <td>0.0</td>\n",
       "      <td>111.992</td>\n",
       "      <td>[{'sequence': 1, 'point': [-93.0928707, 44.947...</td>\n",
       "      <td></td>\n",
       "      <td>East 6th Street</td>\n",
       "      <td>True</td>\n",
       "      <td>223371528</td>\n",
       "      <td></td>\n",
       "      <td></td>\n",
       "      <td></td>\n",
       "      <td>187858777</td>\n",
       "      <td>187923585</td>\n",
       "      <td></td>\n",
       "      <td>LINESTRING (-93.09287070000001 44.9476402, -93...</td>\n",
       "      <td>1</td>\n",
       "    </tr>\n",
       "    <tr>\n",
       "      <th>4498</th>\n",
       "      <td>1</td>\n",
       "      <td>134574</td>\n",
       "      <td>0.0</td>\n",
       "      <td></td>\n",
       "      <td></td>\n",
       "      <td></td>\n",
       "      <td>878abbf556627618b2f1c8e3ab45f04d</td>\n",
       "      <td>tertiary</td>\n",
       "      <td>d6b3b088666d86081ff7e64399cfc34f</td>\n",
       "      <td>0</td>\n",
       "      <td>1</td>\n",
       "      <td>0</td>\n",
       "      <td>0</td>\n",
       "      <td></td>\n",
       "      <td>0.0</td>\n",
       "      <td>117.292</td>\n",
       "      <td>[{'sequence': 1, 'point': [-93.091634, 44.9482...</td>\n",
       "      <td></td>\n",
       "      <td>East 6th Street</td>\n",
       "      <td>True</td>\n",
       "      <td>223371529</td>\n",
       "      <td></td>\n",
       "      <td></td>\n",
       "      <td></td>\n",
       "      <td>187899923</td>\n",
       "      <td>187858777</td>\n",
       "      <td></td>\n",
       "      <td>LINESTRING (-93.091634 44.9482284, -93.0928707...</td>\n",
       "      <td>1</td>\n",
       "    </tr>\n",
       "    <tr>\n",
       "      <th>5570</th>\n",
       "      <td>1</td>\n",
       "      <td>154035</td>\n",
       "      <td>0.0</td>\n",
       "      <td></td>\n",
       "      <td></td>\n",
       "      <td></td>\n",
       "      <td>1e802737854e3202753c8641086352d8</td>\n",
       "      <td>tertiary</td>\n",
       "      <td>23f4bf6121c4220c46c530eb95664cb4</td>\n",
       "      <td>1</td>\n",
       "      <td>1</td>\n",
       "      <td>0</td>\n",
       "      <td>0</td>\n",
       "      <td></td>\n",
       "      <td>0.0</td>\n",
       "      <td>114.436</td>\n",
       "      <td>[{'sequence': 1, 'point': [-93.0940445, 44.947...</td>\n",
       "      <td></td>\n",
       "      <td>East 6th Street</td>\n",
       "      <td>True</td>\n",
       "      <td>637912019</td>\n",
       "      <td></td>\n",
       "      <td></td>\n",
       "      <td></td>\n",
       "      <td>187923585</td>\n",
       "      <td>187865924</td>\n",
       "      <td></td>\n",
       "      <td>LINESTRING (-93.0940445 44.9470709, -93.095249...</td>\n",
       "      <td>1</td>\n",
       "    </tr>\n",
       "  </tbody>\n",
       "</table>\n",
       "</div>"
      ],
      "text/plain": [
       "      lanes  link_id  osmlanes access area bridge  \\\n",
       "1125      1    85208       0.0                      \n",
       "4498      1   134574       0.0                      \n",
       "5570      1   154035       0.0                      \n",
       "\n",
       "                            geometryid   highway  \\\n",
       "1125  f40c90c87447dca8c1d89b35e2175778  tertiary   \n",
       "4498  878abbf556627618b2f1c8e3ab45f04d  tertiary   \n",
       "5570  1e802737854e3202753c8641086352d8  tertiary   \n",
       "\n",
       "                                    id  isbikelink  isdrivelink  istranlink  \\\n",
       "1125  f89fec3332dd503f754dc5adde048fa3           0            1           0   \n",
       "4498  d6b3b088666d86081ff7e64399cfc34f           0            1           0   \n",
       "5570  23f4bf6121c4220c46c530eb95664cb4           1            1           0   \n",
       "\n",
       "      iswalklink junction  key   length  \\\n",
       "1125           0           0.0  111.992   \n",
       "4498           0           0.0  117.292   \n",
       "5570           0           0.0  114.436   \n",
       "\n",
       "                                     locationreferences maxspeed  \\\n",
       "1125  [{'sequence': 1, 'point': [-93.0928707, 44.947...            \n",
       "4498  [{'sequence': 1, 'point': [-93.091634, 44.9482...            \n",
       "5570  [{'sequence': 1, 'point': [-93.0940445, 44.947...            \n",
       "\n",
       "                 name oneway      osmid ref service tunnel          u  \\\n",
       "1125  East 6th Street   True  223371528                     187858777   \n",
       "4498  East 6th Street   True  223371529                     187899923   \n",
       "5570  East 6th Street   True  637912019                     187923585   \n",
       "\n",
       "              v width                                           geometry  \\\n",
       "1125  187923585        LINESTRING (-93.09287070000001 44.9476402, -93...   \n",
       "4498  187858777        LINESTRING (-93.091634 44.9482284, -93.0928707...   \n",
       "5570  187865924        LINESTRING (-93.0940445 44.9470709, -93.095249...   \n",
       "\n",
       "      weight  \n",
       "1125       1  \n",
       "4498       1  \n",
       "5570       1  "
      ]
     },
     "execution_count": 24,
     "metadata": {},
     "output_type": "execute_result"
    }
   ],
   "source": [
    "# shortest path links may or may not satify the initial selection criteria\n",
    "# filter again based on the selection query\n",
    "sel_data = sp_links.query(sel_query, engine='python')\n",
    "sel_data.head()"
   ]
  },
  {
   "cell_type": "code",
   "execution_count": 25,
   "metadata": {},
   "outputs": [
    {
     "data": {
      "text/plain": [
       "[1125, 4498, 5570]"
      ]
     },
     "execution_count": 25,
     "metadata": {},
     "output_type": "execute_result"
    }
   ],
   "source": [
    "sel_indices = sel_data.index.tolist()\n",
    "sel_indices"
   ]
  },
  {
   "cell_type": "code",
   "execution_count": null,
   "metadata": {},
   "outputs": [],
   "source": []
  }
 ],
 "metadata": {
  "kernelspec": {
   "display_name": "Python 3",
   "language": "python",
   "name": "python3"
  },
  "language_info": {
   "codemirror_mode": {
    "name": "ipython",
    "version": 3
   },
   "file_extension": ".py",
   "mimetype": "text/x-python",
   "name": "python",
   "nbconvert_exporter": "python",
   "pygments_lexer": "ipython3",
   "version": "3.7.1"
  }
 },
 "nbformat": 4,
 "nbformat_minor": 2
}
