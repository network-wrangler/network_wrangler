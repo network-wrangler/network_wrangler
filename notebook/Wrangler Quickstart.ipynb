{
 "cells": [
  {
   "cell_type": "markdown",
   "metadata": {},
   "source": [
    "# Quick Start for Network Wrangler\n",
    "\n",
    "This notebook should give you a high-level overview of using Wrangler to do the following:  \n",
    "\n",
    "1. Import a network to wrangler\n",
    "2. Query network features \n",
    "3. Change attributes \n",
    "4. Write out resulting network  \n",
    "5. Make change to a network based on a project card "
   ]
  },
  {
   "cell_type": "code",
   "execution_count": null,
   "metadata": {},
   "outputs": [],
   "source": [
    "import os\n",
    "import warnings\n",
    "\n",
    "import numpy as np\n",
    "import pandas as pd\n",
    "import geopandas as gpd\n",
    "\n",
    "from network_wrangler import RoadwayNetwork\n",
    "from network_wrangler import ProjectCard\n",
    "from network_wrangler import TransitNetwork\n",
    "\n",
    "from ipywidgets import HBox, VBox, Output\n",
    "from IPython.display import display, HTML\n",
    "\n",
    "%config IPCompleter.greedy=True\n",
    "pd.set_option('display.max_columns', None)\n",
    "warnings.filterwarnings('ignore')\n",
    "%load_ext autoreload\n",
    "%autoreload 2"
   ]
  },
  {
   "cell_type": "markdown",
   "metadata": {},
   "source": [
    "### 1. Importing and viewing a network in the standard format \n",
    "\n",
    "1. Locate network folder and files "
   ]
  },
  {
   "cell_type": "code",
   "execution_count": null,
   "metadata": {},
   "outputs": [],
   "source": [
    "STPAUL_DIR = os.path.join(os.getcwd(),'../','examples','stpaul')\n",
    "\n",
    "# Roadway Network files\n",
    "STPAUL_SHAPE_FILE = os.path.join(STPAUL_DIR,\"shape.geojson\")\n",
    "STPAUL_LINK_FILE = os.path.join(STPAUL_DIR,\"link.json\")\n",
    "STPAUL_NODE_FILE = os.path.join(STPAUL_DIR,\"node.geojson\")"
   ]
  },
  {
   "cell_type": "markdown",
   "metadata": {},
   "source": [
    "2. Read in the network"
   ]
  },
  {
   "cell_type": "code",
   "execution_count": null,
   "metadata": {},
   "outputs": [],
   "source": [
    "net = RoadwayNetwork.read(\n",
    "    link_file= STPAUL_LINK_FILE, \n",
    "    node_file=STPAUL_NODE_FILE, \n",
    "    shape_file=STPAUL_SHAPE_FILE, \n",
    "    fast=True        # fast=True means that the network isn't validated against its schema when it is read in. You will want to try both ways.\n",
    ")"
   ]
  },
  {
   "cell_type": "code",
   "execution_count": null,
   "metadata": {},
   "outputs": [],
   "source": [
    "transit_net = TransitNetwork.read(feed_path=STPAUL_DIR)"
   ]
  },
  {
   "cell_type": "markdown",
   "metadata": {},
   "source": [
    "3. Look at the first three rows of each network component"
   ]
  },
  {
   "cell_type": "code",
   "execution_count": null,
   "metadata": {},
   "outputs": [],
   "source": [
    "net.links_df[:3]"
   ]
  },
  {
   "cell_type": "code",
   "execution_count": null,
   "metadata": {},
   "outputs": [],
   "source": [
    "net.nodes_df[:3]"
   ]
  },
  {
   "cell_type": "code",
   "execution_count": null,
   "metadata": {},
   "outputs": [],
   "source": [
    "net.shapes_df[:3]"
   ]
  },
  {
   "cell_type": "code",
   "execution_count": null,
   "metadata": {},
   "outputs": [],
   "source": [
    "transit_net.feed.routes[:3]"
   ]
  },
  {
   "cell_type": "code",
   "execution_count": null,
   "metadata": {},
   "outputs": [],
   "source": [
    "transit_net.feed.stop_times[:3]"
   ]
  },
  {
   "cell_type": "code",
   "execution_count": null,
   "metadata": {},
   "outputs": [],
   "source": [
    "transit_net.feed.frequencies[0:3]"
   ]
  },
  {
   "cell_type": "code",
   "execution_count": null,
   "metadata": {},
   "outputs": [],
   "source": [
    "transit_net.feed.trips[0:3]"
   ]
  },
  {
   "cell_type": "code",
   "execution_count": null,
   "metadata": {},
   "outputs": [],
   "source": [
    "transit_net.feed.stops[:3]"
   ]
  },
  {
   "cell_type": "code",
   "execution_count": null,
   "metadata": {},
   "outputs": [],
   "source": [
    "stops_gdf = gpd.GeoDataFrame(\n",
    "    transit_net.feed.stops, geometry=gpd.points_from_xy(transit_net.feed.stops.stop_lon, transit_net.feed.stops.stop_lat))\n",
    "stops_gdf.plot(column='wheelchair_boarding')"
   ]
  },
  {
   "cell_type": "code",
   "execution_count": null,
   "metadata": {},
   "outputs": [],
   "source": [
    "transit_net.feed.shapes[:5]\n",
    "# this can be a geodataframe, but have it turned off for now b/c of issues with partridge"
   ]
  },
  {
   "cell_type": "markdown",
   "metadata": {},
   "source": [
    "## 2. Query Network Features\n",
    "\n",
    "Most of Network wrangler operates by querying a portion of the network and then making changes to it.  \n",
    "\n",
    "Queries take the form of Python Dictionaries or can be read-in as YAML which is then converted to a python dictionary.\n",
    "\n",
    "If a query has already been made, it is stored in the network so that it will not take up computing power to find it again.\n",
    "\n",
    "### Highway Segment Selection\n",
    "\n",
    "Highway selections have three required components: 'link', 'A', and 'B'.  \n",
    "\n",
    "'link' must either have a specified name, or an 'osmid'\n",
    "\n",
    "'A' and 'B' must specify some sort of unique identifier which is found in the data structure (AKA, it should return a single node).\n",
    "\n",
    "If not all the links connecting A to B have the 'name' or an 'osmid', wrangler will connect the dots from A-->B using as many streets with the correct name/osmid as possible."
   ]
  },
  {
   "cell_type": "code",
   "execution_count": null,
   "metadata": {},
   "outputs": [],
   "source": [
    "easy_highway_selection = \\\n",
    "{\n",
    "    'link':[\n",
    "        {'name': ['6th', 'Sixth', 'sixth']}, #find streets that have one of the various forms of 6th\n",
    "        ],\n",
    "     'A':{'osm_node_id': '187899923'}, # start searching for segments at A\n",
    "     'B':{'osm_node_id': '187865924'}, # end at B\n",
    "}"
   ]
  },
  {
   "cell_type": "code",
   "execution_count": null,
   "metadata": {},
   "outputs": [],
   "source": [
    "# querying with the selection will return the links that are selected\n",
    "net.select_roadway_features(easy_highway_selection)"
   ]
  },
  {
   "cell_type": "code",
   "execution_count": null,
   "metadata": {},
   "outputs": [],
   "source": [
    "# wrangler has other information about the facility selection stored under a unique key, including a graph and a route\n",
    "A_id, B_id = net.orig_dest_nodes_foreign_key(easy_highway_selection)\n",
    "easy_key = (ProjectCard.build_link_selection_query(easy_highway_selection, unique_model_link_identifiers = ['model_link_id']), A_id, B_id)\n",
    "\n",
    "G               = net.selections[easy_key]['graph']\n",
    "selection_route = net.selections[easy_key]['route']\n",
    "selected_links  = net.selections[easy_key]['selected_links']"
   ]
  },
  {
   "cell_type": "markdown",
   "metadata": {},
   "source": [
    "#### Visualizing the selection to verify it is correct"
   ]
  },
  {
   "cell_type": "code",
   "execution_count": null,
   "metadata": {},
   "outputs": [],
   "source": [
    "try:\n",
    "    import osmnx as ox\n",
    "except:\n",
    "    !conda install osmnx\n",
    "try:\n",
    "    import folium\n",
    "except:\n",
    "    !conda install folium\n",
    "\n",
    "## todo make this part of wrangler\n",
    "## todo visualize with shapes rather than links\n",
    "    \n",
    "def folium_node(node, node_name, color='white', icon = ''):\n",
    "        node_marker = folium.Marker(location=[node['y'],node['x']], \n",
    "                                    icon=folium.Icon(icon = icon, color=color), \n",
    "                                    tooltip=node_name,\n",
    "                                   )\n",
    "        return node_marker\n",
    "    \n",
    "def map_selection(stored_selection, A_name, B_name):\n",
    "        '''\n",
    "        Shows which links are selected\n",
    "        '''\n",
    "        \n",
    "        \n",
    "        m = ox.plot_graph_folium(stored_selection['graph'], \n",
    "                                 edge_color='blue',\n",
    "                                 edge_width=5, \n",
    "                                 edge_opacity = 0.6,\n",
    "                                 tiles='cartodbdark_matter')\n",
    "        \n",
    "        A     = stored_selection['graph'].nodes[A_name]\n",
    "        B     = stored_selection['graph'].nodes[B_name]\n",
    "        \n",
    "        folium_node(A, A_name, color=\"green\", icon = 'play').add_to(m)\n",
    "        folium_node(B, B_name, color=\"pink\", icon = 'star').add_to(m)\n",
    "        \n",
    "        for _, row in stored_selection['selected_links'].iterrows():\n",
    "            pl = ox.plot.make_folium_polyline(edge=row, edge_color=\"green\", edge_width=7,\n",
    "                                      edge_opacity=0.8)\n",
    "            pl.add_to(m)\n",
    "            \n",
    "        \n",
    "        return m"
   ]
  },
  {
   "cell_type": "code",
   "execution_count": null,
   "metadata": {},
   "outputs": [],
   "source": [
    "map_selection(net.selections[easy_key], A_id, B_id)\n",
    "\n",
    "# this map shows the links that were considered because of their OSMid or their name in blue, \n",
    "# and the final selection in green"
   ]
  },
  {
   "cell_type": "markdown",
   "metadata": {},
   "source": [
    "### More complex selections\n",
    "\n",
    "You can also select facilities based on their properties.  This selection is tiered from the name/osmid selection."
   ]
  },
  {
   "cell_type": "code",
   "execution_count": null,
   "metadata": {},
   "outputs": [],
   "source": [
    "multi_criteria_selection = \\\n",
    "{\n",
    "    'link':[\n",
    "        {'name': ['6th', 'Sixth', 'sixth']}, #find streets that have one of the various forms of 6th\n",
    "        {'lanes': [1,2]}, # only select links that are either 1 or 2 lanes\n",
    "         ],\n",
    "     'A':{'osm_node_id': '187899923'}, # start searching for segments at A\n",
    "     'B':{'osm_node_id': '187865924'}, # end at B\n",
    "}\n",
    "net.select_roadway_features(multi_criteria_selection )"
   ]
  },
  {
   "cell_type": "code",
   "execution_count": null,
   "metadata": {},
   "outputs": [],
   "source": [
    "A_id, B_id = net.orig_dest_nodes_foreign_key(multi_criteria_selection)\n",
    "multi_criteria_key = (ProjectCard.build_link_selection_query(multi_criteria_selection,unique_model_link_identifiers= ['model_link_id']), A_id, B_id)\n",
    "map_selection(net.selections[multi_criteria_key], A_id, B_id)"
   ]
  },
  {
   "cell_type": "markdown",
   "metadata": {},
   "source": [
    "### Transit Selection\n",
    "\n",
    "\n",
    "Transit trip selection can currently happen by querying trips, routes, etc."
   ]
  },
  {
   "cell_type": "code",
   "execution_count": null,
   "metadata": {},
   "outputs": [],
   "source": [
    "simple_transit_selection = {\"route_id\": \"365-111\"}\n",
    "selected_trips = transit_net.select_transit_features(simple_transit_selection)\n",
    "\n",
    "transit_net.feed.trips[transit_net.feed.trips.trip_id.isin(selected_trips)]"
   ]
  },
  {
   "cell_type": "code",
   "execution_count": null,
   "metadata": {},
   "outputs": [],
   "source": [
    "simple_transit_selection = {\"route_short_name\": \"3\"}\n",
    "selected_trips = transit_net.select_transit_features(simple_transit_selection)\n",
    "\n",
    "transit_net.feed.routes[transit_net.feed.trips.trip_id.isin(selected_trips)]"
   ]
  },
  {
   "cell_type": "markdown",
   "metadata": {},
   "source": [
    "#### Visualize selection on map\n",
    "\n",
    "Note that this is a mouthful of code.  I have a todo to write a wrapper around this so that you can easily visualize with an api of something like:  `transit_net.select_transit_features(simple_transit_selection).plot()`"
   ]
  },
  {
   "cell_type": "code",
   "execution_count": null,
   "metadata": {},
   "outputs": [],
   "source": [
    "#NOTE not currently working because of partridge/geopandas issues. Working to resolve.\n",
    "all_routes = transit_net.feed.shapes.plot(color='gray')\n",
    "transit_net.feed.shapes[transit_net.feed.trips.trip_id.isin(selected_trips)].plot(ax=all_routes, color=\"red\")"
   ]
  },
  {
   "cell_type": "markdown",
   "metadata": {},
   "source": [
    "## 3. Change Feature Attributes\n",
    "\n",
    "### Highway Feature Change"
   ]
  },
  {
   "cell_type": "code",
   "execution_count": null,
   "metadata": {},
   "outputs": [],
   "source": [
    "selected_highway = {\n",
    "    \"link\": [{\"name\": [\"I 35E\"]}],\n",
    "    \"A\": {\"osm_node_id\": \"961117623\"},  \n",
    "    \"B\": {\"osm_node_id\": \"2564047368\"}\n",
    "}\n",
    "selected_links   = net.select_roadway_features(selected_highway)\n",
    "\n",
    "A_id, B_id = net.orig_dest_nodes_foreign_key(selected_highway)\n",
    "selected_highway_key = (ProjectCard.build_link_selection_query(selected_highway,unique_model_link_identifiers=['model_link_id']), A_id, B_id)\n",
    "map_selection(net.selections[selected_highway_key ], A_id, B_id)"
   ]
  },
  {
   "cell_type": "code",
   "execution_count": null,
   "metadata": {},
   "outputs": [],
   "source": [
    "net.links_df.loc[selected_links]['lanes']"
   ]
  },
  {
   "cell_type": "code",
   "execution_count": null,
   "metadata": {},
   "outputs": [],
   "source": [
    "change = {\n",
    "    'properties': [\n",
    "      {\n",
    "          'property': 'lanes',\n",
    "          'set': 2,\n",
    "      }\n",
    "    ]\n",
    "}"
   ]
  },
  {
   "cell_type": "code",
   "execution_count": null,
   "metadata": {},
   "outputs": [],
   "source": [
    "net.apply_roadway_feature_change(selected_links,change['properties'])\n",
    "net.links_df.loc[selected_links]['lanes']"
   ]
  },
  {
   "cell_type": "markdown",
   "metadata": {},
   "source": [
    "#### You can also increment from the existing value using the field `change`\n",
    "And optionally, you can call out what you think the existing value should be so that it fails if it isn't the case."
   ]
  },
  {
   "cell_type": "code",
   "execution_count": null,
   "metadata": {},
   "outputs": [],
   "source": [
    "change = {\n",
    "    'properties': [\n",
    "      {\n",
    "          'property': 'lanes',\n",
    "          'existing': 2,\n",
    "          'change': 1,\n",
    "      }\n",
    "    ]\n",
    "}\n",
    "\n",
    "net.apply_roadway_feature_change(selected_links,change['properties'])\n",
    "net.links_df.loc[selected_links]['lanes']"
   ]
  },
  {
   "cell_type": "markdown",
   "metadata": {},
   "source": [
    "### Transit Feature Change\n"
   ]
  },
  {
   "cell_type": "code",
   "execution_count": null,
   "metadata": {},
   "outputs": [],
   "source": [
    "transit_selection = {\"route_short_name\": \"3\"}\n",
    "change = {\n",
    "    'properties': [\n",
    "      {\n",
    "          'property': 'headway_secs',\n",
    "          'set': 600, # ten minute headways\n",
    "      }\n",
    "    ]\n",
    "}\n",
    "# show existing headways\n",
    "transit_net.feed.frequencies[\n",
    "    transit_net.feed.trips.trip_id.isin(\n",
    "        transit_net.select_transit_features(transit_selection)\n",
    "    )\n",
    "]"
   ]
  },
  {
   "cell_type": "code",
   "execution_count": null,
   "metadata": {},
   "outputs": [],
   "source": [
    "transit_net.apply_transit_feature_change(\n",
    "            transit_net.select_transit_features(transit_selection), change['properties']\n",
    "        )\n",
    "\n",
    "# show revised headways\n",
    "transit_net.feed.frequencies[\n",
    "    transit_net.feed.trips.trip_id.isin(\n",
    "        transit_net.select_transit_features(simple_transit_selection)\n",
    "    )\n",
    "]"
   ]
  },
  {
   "cell_type": "markdown",
   "metadata": {},
   "source": [
    "## 4 - Write out Networks"
   ]
  },
  {
   "cell_type": "code",
   "execution_count": null,
   "metadata": {},
   "outputs": [],
   "source": [
    "OUTPATH = \"/Users/Elizabeth/Downloads\""
   ]
  },
  {
   "cell_type": "code",
   "execution_count": null,
   "metadata": {},
   "outputs": [],
   "source": [
    "net.write(filename=\"my_net\", path=OUTPATH)"
   ]
  },
  {
   "cell_type": "code",
   "execution_count": null,
   "metadata": {},
   "outputs": [],
   "source": [
    "transit_net.write(path = OUTPATH)"
   ]
  },
  {
   "cell_type": "markdown",
   "metadata": {},
   "source": [
    "## 5 - Do the whole process with project cards\n",
    "\n",
    "#### Roadway"
   ]
  },
  {
   "cell_type": "code",
   "execution_count": null,
   "metadata": {},
   "outputs": [],
   "source": [
    "roadway_project_card_file = os.path.join(\n",
    "        STPAUL_DIR, \"project_cards\", '3_multiple_roadway_attribute_change.yml'\n",
    "    )\n",
    "    \n",
    "roadway_project_card = ProjectCard.read(roadway_project_card_file)\n",
    "\n",
    "net.apply_roadway_feature_change(\n",
    "    net.select_roadway_features(roadway_project_card.facility),\n",
    "    roadway_project_card.properties\n",
    ")\n"
   ]
  },
  {
   "cell_type": "markdown",
   "metadata": {},
   "source": [
    "#### Transit"
   ]
  },
  {
   "cell_type": "code",
   "execution_count": null,
   "metadata": {},
   "outputs": [],
   "source": [
    "transit_project_card_file = os.path.join(\n",
    "    STPAUL_DIR, \"project_cards\", '8_simple_transit_attribute_change.yml'\n",
    ")\n",
    "\n",
    "transit_project_card = ProjectCard.read(transit_project_card_file)\n",
    "transit_net.apply_transit_feature_change(\n",
    "    transit_net.select_transit_features(transit_project_card.facility), \n",
    "    transit_project_card.properties\n",
    ")"
   ]
  },
  {
   "cell_type": "markdown",
   "metadata": {},
   "source": [
    "# Scenarios\n",
    "\n",
    "Can create a scenario from a base scenario which specifies any base networks if applicable.\n",
    "You can add projects and apply them all.\n",
    "You have access to the projects that have been applied."
   ]
  },
  {
   "cell_type": "code",
   "execution_count": null,
   "metadata": {},
   "outputs": [],
   "source": [
    "from network_wrangler import Scenario\n",
    "scen = Scenario.create_scenario(\n",
    "    base_scenario={\"road_net\":net, \"transit_net\":transit_net}, \n",
    "    project_cards_list= [roadway_project_card]\n",
    "    )\n",
    "\n",
    "scen.apply_all_projects()"
   ]
  },
  {
   "cell_type": "code",
   "execution_count": null,
   "metadata": {},
   "outputs": [],
   "source": [
    "scen.applied_projects"
   ]
  },
  {
   "cell_type": "code",
   "execution_count": null,
   "metadata": {},
   "outputs": [],
   "source": []
  }
 ],
 "metadata": {
  "kernelspec": {
   "display_name": "Python 3",
   "language": "python",
   "name": "python3"
  },
  "language_info": {
   "codemirror_mode": {
    "name": "ipython",
    "version": 3
   },
   "file_extension": ".py",
   "mimetype": "text/x-python",
   "name": "python",
   "nbconvert_exporter": "python",
   "pygments_lexer": "ipython3",
   "version": "3.7.3"
  }
 },
 "nbformat": 4,
 "nbformat_minor": 2
}
