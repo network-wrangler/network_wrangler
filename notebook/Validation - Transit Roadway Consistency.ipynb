{
 "cells": [
  {
   "cell_type": "markdown",
   "metadata": {},
   "source": [
    "## Check for Transit and Roadway Consistency\n",
    "\n",
    "Evaluate if the transit network is consistent with the roadway network:\n",
    "\n",
    "1. are all stops on the roadway network?  \n",
    "2. are the transit shapes running along the roadway network?  \n"
   ]
  },
  {
   "cell_type": "code",
   "execution_count": 10,
   "metadata": {},
   "outputs": [],
   "source": [
    "import os\n",
    "import sys\n",
    "from network_wrangler import RoadwayNetwork\n",
    "from network_wrangler import TransitNetwork\n",
    "%config IPCompleter.greedy=True\n",
    "\n",
    "import logging\n",
    "logger = logging.getLogger(\"WranglerLogger\")\n",
    "logger.handlers[0].stream = sys.stdout\n",
    "# if you don't want to see so much detail, set to logging.INFO or DEBUG if you want to see everything\n",
    "logger.setLevel(logging.INFO)"
   ]
  },
  {
   "cell_type": "code",
   "execution_count": 2,
   "metadata": {},
   "outputs": [],
   "source": [
    "%load_ext autoreload\n",
    "%autoreload 2"
   ]
  },
  {
   "cell_type": "code",
   "execution_count": null,
   "metadata": {},
   "outputs": [],
   "source": [
    "#if you need to reset variables in the notebook\n",
    "%reset"
   ]
  },
  {
   "cell_type": "markdown",
   "metadata": {},
   "source": [
    "## Setup\n",
    "\n",
    "Set input data folders and read in roadway network."
   ]
  },
  {
   "cell_type": "code",
   "execution_count": 3,
   "metadata": {},
   "outputs": [],
   "source": [
    "STPAUL_DIR = os.path.join(os.path.dirname(os.getcwd()),'examples','stpaul')\n",
    "STPAUL_SHAPE_FILE = os.path.join(STPAUL_DIR,\"shape.geojson\")\n",
    "STPAUL_LINK_FILE = os.path.join(STPAUL_DIR,\"link.json\")\n",
    "STPAUL_NODE_FILE = os.path.join(STPAUL_DIR,\"node.geojson\")"
   ]
  },
  {
   "cell_type": "code",
   "execution_count": 4,
   "metadata": {},
   "outputs": [
    {
     "name": "stdout",
     "output_type": "stream",
     "text": [
      "2020-09-03 11:00:44, INFO: Reading from following files:\n",
      "-/Users/elizabeth/Documents/urbanlabs/MetCouncil/working/network_wrangler/examples/stpaul/link.json\n",
      "-/Users/elizabeth/Documents/urbanlabs/MetCouncil/working/network_wrangler/examples/stpaul/node.geojson\n",
      "-/Users/elizabeth/Documents/urbanlabs/MetCouncil/working/network_wrangler/examples/stpaul/shape.geojson.\n",
      "2020-09-03 11:00:44, INFO: Reading from following files:\n",
      "-/Users/elizabeth/Documents/urbanlabs/MetCouncil/working/network_wrangler/examples/stpaul/link.json\n",
      "-/Users/elizabeth/Documents/urbanlabs/MetCouncil/working/network_wrangler/examples/stpaul/node.geojson\n",
      "-/Users/elizabeth/Documents/urbanlabs/MetCouncil/working/network_wrangler/examples/stpaul/shape.geojson.\n",
      "2020-09-03 11:00:49, INFO: Read 66253 links from /Users/elizabeth/Documents/urbanlabs/MetCouncil/working/network_wrangler/examples/stpaul/link.json\n",
      "2020-09-03 11:00:49, INFO: Read 66253 links from /Users/elizabeth/Documents/urbanlabs/MetCouncil/working/network_wrangler/examples/stpaul/link.json\n",
      "2020-09-03 11:00:49, INFO: Read 17159 nodes from /Users/elizabeth/Documents/urbanlabs/MetCouncil/working/network_wrangler/examples/stpaul/node.geojson\n",
      "2020-09-03 11:00:49, INFO: Read 17159 nodes from /Users/elizabeth/Documents/urbanlabs/MetCouncil/working/network_wrangler/examples/stpaul/node.geojson\n",
      "2020-09-03 11:00:49, INFO: Read 66253 shapes from /Users/elizabeth/Documents/urbanlabs/MetCouncil/working/network_wrangler/examples/stpaul/shape.geojson\n",
      "2020-09-03 11:00:49, INFO: Read 66253 shapes from /Users/elizabeth/Documents/urbanlabs/MetCouncil/working/network_wrangler/examples/stpaul/shape.geojson\n"
     ]
    }
   ],
   "source": [
    "road_net = RoadwayNetwork.read(\n",
    "    link_filename=STPAUL_LINK_FILE,\n",
    "    node_filename=STPAUL_NODE_FILE,\n",
    "    shape_filename=STPAUL_SHAPE_FILE,\n",
    "    fast=True,\n",
    "    shape_foreign_key=\"shape_id\",\n",
    ")"
   ]
  },
  {
   "cell_type": "markdown",
   "metadata": {},
   "source": [
    "**Note: `validate_consistency` keyword is only set to False here so that it can be demonstrated below. In production, you would let it default to True**"
   ]
  },
  {
   "cell_type": "code",
   "execution_count": 11,
   "metadata": {},
   "outputs": [
    {
     "name": "stdout",
     "output_type": "stream",
     "text": [
      "2020-09-03 11:04:15, INFO: Read in transit feed from: /Users/elizabeth/Documents/urbanlabs/MetCouncil/working/network_wrangler/examples/stpaul\n",
      "2020-09-03 11:04:15, INFO: Read in transit feed from: /Users/elizabeth/Documents/urbanlabs/MetCouncil/working/network_wrangler/examples/stpaul\n",
      "2020-09-03 11:04:15, INFO: Removing calendar.txt from transit network config because file not found\n",
      "2020-09-03 11:04:15, INFO: Removing calendar.txt from transit network config because file not found\n",
      "2020-09-03 11:04:15, INFO: Removing calendar_dates.txt from transit network config because file not found\n",
      "2020-09-03 11:04:15, INFO: Removing calendar_dates.txt from transit network config because file not found\n",
      "2020-09-03 11:04:15, INFO: Removing fare_attributes.txt from transit network config because file not found\n",
      "2020-09-03 11:04:15, INFO: Removing fare_attributes.txt from transit network config because file not found\n",
      "2020-09-03 11:04:15, INFO: Removing fare_rules.txt from transit network config because file not found\n",
      "2020-09-03 11:04:15, INFO: Removing fare_rules.txt from transit network config because file not found\n",
      "2020-09-03 11:04:15, INFO: Removing transfers.txt from transit network config because file not found\n",
      "2020-09-03 11:04:15, INFO: Removing transfers.txt from transit network config because file not found\n",
      "2020-09-03 11:04:15, INFO: Removing feed_info.txt from transit network config because file not found\n",
      "2020-09-03 11:04:15, INFO: Removing feed_info.txt from transit network config because file not found\n"
     ]
    }
   ],
   "source": [
    "transit_net = TransitNetwork.read(STPAUL_DIR)\n",
    "transit_net.set_roadnet(road_net = road_net, validate_consistency=False)"
   ]
  },
  {
   "cell_type": "markdown",
   "metadata": {},
   "source": [
    "## Stop Checks\n",
    "- Checks that the transit stops are valid nodes in the RoadwayNetwork"
   ]
  },
  {
   "cell_type": "code",
   "execution_count": 6,
   "metadata": {},
   "outputs": [
    {
     "data": {
      "text/plain": [
       "True"
      ]
     },
     "execution_count": 6,
     "metadata": {},
     "output_type": "execute_result"
    }
   ],
   "source": [
    "transit_net.validate_transit_stops()"
   ]
  },
  {
   "cell_type": "markdown",
   "metadata": {},
   "source": [
    "## Shape Checks\n",
    "- Checks that the links transit traverses are valid in the RoadwayNetwork"
   ]
  },
  {
   "cell_type": "code",
   "execution_count": 7,
   "metadata": {},
   "outputs": [
    {
     "data": {
      "text/plain": [
       "True"
      ]
     },
     "execution_count": 7,
     "metadata": {},
     "output_type": "execute_result"
    }
   ],
   "source": [
    "transit_net.validate_transit_shapes()"
   ]
  },
  {
   "cell_type": "markdown",
   "metadata": {},
   "source": [
    "## All Together\n",
    "\n",
    "This evaluates consistencies for both stops and shapes.   This is what is automatically run when the road_net of a transit network is set unless the keyword `validate_consistency = False`"
   ]
  },
  {
   "cell_type": "code",
   "execution_count": 8,
   "metadata": {},
   "outputs": [
    {
     "data": {
      "text/plain": [
       "True"
      ]
     },
     "execution_count": 8,
     "metadata": {},
     "output_type": "execute_result"
    }
   ],
   "source": [
    "transit_net.validate_road_network_consistencies()"
   ]
  }
 ],
 "metadata": {
  "kernelspec": {
   "display_name": "Python 3",
   "language": "python",
   "name": "python3"
  },
  "language_info": {
   "codemirror_mode": {
    "name": "ipython",
    "version": 3
   },
   "file_extension": ".py",
   "mimetype": "text/x-python",
   "name": "python",
   "nbconvert_exporter": "python",
   "pygments_lexer": "ipython3",
   "version": "3.7.6"
  }
 },
 "nbformat": 4,
 "nbformat_minor": 2
}
